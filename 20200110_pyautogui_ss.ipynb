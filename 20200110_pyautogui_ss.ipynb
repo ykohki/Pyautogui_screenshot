{
 "cells": [
  {
   "cell_type": "markdown",
   "metadata": {},
   "source": [
    "20200110"
   ]
  },
  {
   "cell_type": "markdown",
   "metadata": {},
   "source": [
    "# PyautoguiでSSを完全自動化したい"
   ]
  },
  {
   "cell_type": "markdown",
   "metadata": {},
   "source": [
    "https://scrapbox.io/inaeva7691-14434053/Mac_%E3%81%AE%E3%82%B9%E3%82%AF%E3%83%AA%E3%83%BC%E3%83%B3%E3%82%B7%E3%83%A7%E3%83%83%E3%83%88%E3%82%92%E5%AE%9A%E6%9C%9F%E7%9A%84%E3%81%AB%E8%87%AA%E5%8B%95%E6%92%AE%E5%BD%B1%E3%81%99%E3%82%8B_python"
   ]
  },
  {
   "cell_type": "code",
   "execution_count": 1,
   "metadata": {},
   "outputs": [],
   "source": [
    "import pyautogui"
   ]
  },
  {
   "cell_type": "markdown",
   "metadata": {},
   "source": [
    "矢印キー入力"
   ]
  },
  {
   "cell_type": "code",
   "execution_count": 2,
   "metadata": {
    "scrolled": true
   },
   "outputs": [
    {
     "data": {
      "text/plain": [
       "['\\t',\n",
       " '\\n',\n",
       " '\\r',\n",
       " ' ',\n",
       " '!',\n",
       " '\"',\n",
       " '#',\n",
       " '$',\n",
       " '%',\n",
       " '&',\n",
       " \"'\",\n",
       " '(',\n",
       " ')',\n",
       " '*',\n",
       " '+',\n",
       " ',',\n",
       " '-',\n",
       " '.',\n",
       " '/',\n",
       " '0',\n",
       " '1',\n",
       " '2',\n",
       " '3',\n",
       " '4',\n",
       " '5',\n",
       " '6',\n",
       " '7',\n",
       " '8',\n",
       " '9',\n",
       " ':',\n",
       " ';',\n",
       " '<',\n",
       " '=',\n",
       " '>',\n",
       " '?',\n",
       " '@',\n",
       " '[',\n",
       " '\\\\',\n",
       " ']',\n",
       " '^',\n",
       " '_',\n",
       " '`',\n",
       " 'a',\n",
       " 'b',\n",
       " 'c',\n",
       " 'd',\n",
       " 'e',\n",
       " 'f',\n",
       " 'g',\n",
       " 'h',\n",
       " 'i',\n",
       " 'j',\n",
       " 'k',\n",
       " 'l',\n",
       " 'm',\n",
       " 'n',\n",
       " 'o',\n",
       " 'p',\n",
       " 'q',\n",
       " 'r',\n",
       " 's',\n",
       " 't',\n",
       " 'u',\n",
       " 'v',\n",
       " 'w',\n",
       " 'x',\n",
       " 'y',\n",
       " 'z',\n",
       " '{',\n",
       " '|',\n",
       " '}',\n",
       " '~',\n",
       " 'accept',\n",
       " 'add',\n",
       " 'alt',\n",
       " 'altleft',\n",
       " 'altright',\n",
       " 'apps',\n",
       " 'backspace',\n",
       " 'browserback',\n",
       " 'browserfavorites',\n",
       " 'browserforward',\n",
       " 'browserhome',\n",
       " 'browserrefresh',\n",
       " 'browsersearch',\n",
       " 'browserstop',\n",
       " 'capslock',\n",
       " 'clear',\n",
       " 'convert',\n",
       " 'ctrl',\n",
       " 'ctrlleft',\n",
       " 'ctrlright',\n",
       " 'decimal',\n",
       " 'del',\n",
       " 'delete',\n",
       " 'divide',\n",
       " 'down',\n",
       " 'end',\n",
       " 'enter',\n",
       " 'esc',\n",
       " 'escape',\n",
       " 'execute',\n",
       " 'f1',\n",
       " 'f10',\n",
       " 'f11',\n",
       " 'f12',\n",
       " 'f13',\n",
       " 'f14',\n",
       " 'f15',\n",
       " 'f16',\n",
       " 'f17',\n",
       " 'f18',\n",
       " 'f19',\n",
       " 'f2',\n",
       " 'f20',\n",
       " 'f21',\n",
       " 'f22',\n",
       " 'f23',\n",
       " 'f24',\n",
       " 'f3',\n",
       " 'f4',\n",
       " 'f5',\n",
       " 'f6',\n",
       " 'f7',\n",
       " 'f8',\n",
       " 'f9',\n",
       " 'final',\n",
       " 'fn',\n",
       " 'hanguel',\n",
       " 'hangul',\n",
       " 'hanja',\n",
       " 'help',\n",
       " 'home',\n",
       " 'insert',\n",
       " 'junja',\n",
       " 'kana',\n",
       " 'kanji',\n",
       " 'launchapp1',\n",
       " 'launchapp2',\n",
       " 'launchmail',\n",
       " 'launchmediaselect',\n",
       " 'left',\n",
       " 'modechange',\n",
       " 'multiply',\n",
       " 'nexttrack',\n",
       " 'nonconvert',\n",
       " 'num0',\n",
       " 'num1',\n",
       " 'num2',\n",
       " 'num3',\n",
       " 'num4',\n",
       " 'num5',\n",
       " 'num6',\n",
       " 'num7',\n",
       " 'num8',\n",
       " 'num9',\n",
       " 'numlock',\n",
       " 'pagedown',\n",
       " 'pageup',\n",
       " 'pause',\n",
       " 'pgdn',\n",
       " 'pgup',\n",
       " 'playpause',\n",
       " 'prevtrack',\n",
       " 'print',\n",
       " 'printscreen',\n",
       " 'prntscrn',\n",
       " 'prtsc',\n",
       " 'prtscr',\n",
       " 'return',\n",
       " 'right',\n",
       " 'scrolllock',\n",
       " 'select',\n",
       " 'separator',\n",
       " 'shift',\n",
       " 'shiftleft',\n",
       " 'shiftright',\n",
       " 'sleep',\n",
       " 'space',\n",
       " 'stop',\n",
       " 'subtract',\n",
       " 'tab',\n",
       " 'up',\n",
       " 'volumedown',\n",
       " 'volumemute',\n",
       " 'volumeup',\n",
       " 'win',\n",
       " 'winleft',\n",
       " 'winright',\n",
       " 'yen',\n",
       " 'command',\n",
       " 'option',\n",
       " 'optionleft',\n",
       " 'optionright']"
      ]
     },
     "execution_count": 2,
     "metadata": {},
     "output_type": "execute_result"
    }
   ],
   "source": [
    "#一覧\n",
    "pyautogui.KEYBOARD_KEYS"
   ]
  },
  {
   "cell_type": "code",
   "execution_count": 5,
   "metadata": {},
   "outputs": [],
   "source": [
    "pyautogui.press('right')\n",
    "pyautogui.press('enter')"
   ]
  },
  {
   "cell_type": "markdown",
   "metadata": {},
   "source": [
    "スクショもとれる"
   ]
  },
  {
   "cell_type": "code",
   "execution_count": 6,
   "metadata": {},
   "outputs": [],
   "source": [
    "s = pyautogui.screenshot()\n",
    "s.save('screenshot1.png')"
   ]
  },
  {
   "cell_type": "code",
   "execution_count": 27,
   "metadata": {},
   "outputs": [],
   "source": [
    "#スクショされるのはメインの画面だけ\n",
    "s = pyautogui.screenshot()\n",
    "s.save('screenshot2.png')"
   ]
  },
  {
   "cell_type": "code",
   "execution_count": 26,
   "metadata": {
    "scrolled": false
   },
   "outputs": [
    {
     "ename": "ValueError",
     "evalue": "cannot save mode RGBA",
     "output_type": "error",
     "traceback": [
      "\u001b[0;31m---------------------------------------------------------------------------\u001b[0m",
      "\u001b[0;31mValueError\u001b[0m                                Traceback (most recent call last)",
      "\u001b[0;32m<ipython-input-26-053f584a5521>\u001b[0m in \u001b[0;36m<module>\u001b[0;34m\u001b[0m\n\u001b[1;32m      1\u001b[0m \u001b[0;31m#pdfでやってみる\u001b[0m\u001b[0;34m\u001b[0m\u001b[0;34m\u001b[0m\u001b[0;34m\u001b[0m\u001b[0m\n\u001b[1;32m      2\u001b[0m \u001b[0ms\u001b[0m \u001b[0;34m=\u001b[0m \u001b[0mpyautogui\u001b[0m\u001b[0;34m.\u001b[0m\u001b[0mscreenshot\u001b[0m\u001b[0;34m(\u001b[0m\u001b[0;34m)\u001b[0m\u001b[0;34m\u001b[0m\u001b[0;34m\u001b[0m\u001b[0m\n\u001b[0;32m----> 3\u001b[0;31m \u001b[0ms\u001b[0m\u001b[0;34m.\u001b[0m\u001b[0msave\u001b[0m\u001b[0;34m(\u001b[0m\u001b[0;34m'screenshot1.pdf'\u001b[0m\u001b[0;34m)\u001b[0m\u001b[0;34m\u001b[0m\u001b[0;34m\u001b[0m\u001b[0m\n\u001b[0m",
      "\u001b[0;32m~/anaconda3/lib/python3.7/site-packages/PIL/Image.py\u001b[0m in \u001b[0;36msave\u001b[0;34m(self, fp, format, **params)\u001b[0m\n\u001b[1;32m   2082\u001b[0m \u001b[0;34m\u001b[0m\u001b[0m\n\u001b[1;32m   2083\u001b[0m         \u001b[0;32mtry\u001b[0m\u001b[0;34m:\u001b[0m\u001b[0;34m\u001b[0m\u001b[0;34m\u001b[0m\u001b[0m\n\u001b[0;32m-> 2084\u001b[0;31m             \u001b[0msave_handler\u001b[0m\u001b[0;34m(\u001b[0m\u001b[0mself\u001b[0m\u001b[0;34m,\u001b[0m \u001b[0mfp\u001b[0m\u001b[0;34m,\u001b[0m \u001b[0mfilename\u001b[0m\u001b[0;34m)\u001b[0m\u001b[0;34m\u001b[0m\u001b[0;34m\u001b[0m\u001b[0m\n\u001b[0m\u001b[1;32m   2085\u001b[0m         \u001b[0;32mfinally\u001b[0m\u001b[0;34m:\u001b[0m\u001b[0;34m\u001b[0m\u001b[0;34m\u001b[0m\u001b[0m\n\u001b[1;32m   2086\u001b[0m             \u001b[0;31m# do what we can to clean up\u001b[0m\u001b[0;34m\u001b[0m\u001b[0;34m\u001b[0m\u001b[0;34m\u001b[0m\u001b[0m\n",
      "\u001b[0;32m~/anaconda3/lib/python3.7/site-packages/PIL/PdfImagePlugin.py\u001b[0m in \u001b[0;36m_save\u001b[0;34m(im, fp, filename, save_all)\u001b[0m\n\u001b[1;32m    157\u001b[0m                 \u001b[0mprocset\u001b[0m \u001b[0;34m=\u001b[0m \u001b[0;34m\"ImageC\"\u001b[0m  \u001b[0;31m# color images\u001b[0m\u001b[0;34m\u001b[0m\u001b[0;34m\u001b[0m\u001b[0m\n\u001b[1;32m    158\u001b[0m             \u001b[0;32melse\u001b[0m\u001b[0;34m:\u001b[0m\u001b[0;34m\u001b[0m\u001b[0;34m\u001b[0m\u001b[0m\n\u001b[0;32m--> 159\u001b[0;31m                 \u001b[0;32mraise\u001b[0m \u001b[0mValueError\u001b[0m\u001b[0;34m(\u001b[0m\u001b[0;34m\"cannot save mode %s\"\u001b[0m \u001b[0;34m%\u001b[0m \u001b[0mim\u001b[0m\u001b[0;34m.\u001b[0m\u001b[0mmode\u001b[0m\u001b[0;34m)\u001b[0m\u001b[0;34m\u001b[0m\u001b[0;34m\u001b[0m\u001b[0m\n\u001b[0m\u001b[1;32m    160\u001b[0m \u001b[0;34m\u001b[0m\u001b[0m\n\u001b[1;32m    161\u001b[0m             \u001b[0;31m#\u001b[0m\u001b[0;34m\u001b[0m\u001b[0;34m\u001b[0m\u001b[0;34m\u001b[0m\u001b[0m\n",
      "\u001b[0;31mValueError\u001b[0m: cannot save mode RGBA"
     ]
    }
   ],
   "source": [
    "#pdfでやってみる\n",
    "s = pyautogui.screenshot()\n",
    "s.save('screenshot1.pdf')"
   ]
  },
  {
   "cell_type": "markdown",
   "metadata": {},
   "source": [
    "## すでにあったプログラムを借りる"
   ]
  },
  {
   "cell_type": "markdown",
   "metadata": {},
   "source": [
    "http://www.mishou.be/2018/06/24/python%E3%81%A7%E3%82%AD%E3%83%BC%E3%83%9C%E3%83%BC%E3%83%89%E3%82%92%E6%93%8D%E4%BD%9C/"
   ]
  },
  {
   "cell_type": "code",
   "execution_count": 28,
   "metadata": {},
   "outputs": [],
   "source": [
    "pyautogui.press(\"left\")"
   ]
  },
  {
   "cell_type": "code",
   "execution_count": 30,
   "metadata": {},
   "outputs": [],
   "source": [
    "import time"
   ]
  },
  {
   "cell_type": "code",
   "execution_count": 32,
   "metadata": {},
   "outputs": [],
   "source": [
    "right_left = 'left'\n",
    "num_pages = 10\n",
    "path_dir = '/Users/yamada/SS/Pyautogui_SS/test_dir'\n",
    "\n",
    "# Sleep for 5 seconds to allow me to open book\n",
    "time.sleep(5)\n",
    "# Range can be changed depending on the number of pages\n",
    "for i in range(num_pages):\n",
    "    # Turn page\n",
    "    #pyautogui.keyDown('right')\n",
    "    #pyautogui.keyUp('right')\n",
    "    pyautogui.press(right_left)\n",
    "    # Take and save a screenshot\n",
    "    pyautogui.screenshot(path_dir + '/page_{}.jpg'.format(i))\n",
    "    time.sleep(0.5)"
   ]
  },
  {
   "cell_type": "code",
   "execution_count": null,
   "metadata": {},
   "outputs": [],
   "source": []
  },
  {
   "cell_type": "code",
   "execution_count": null,
   "metadata": {},
   "outputs": [],
   "source": []
  },
  {
   "cell_type": "code",
   "execution_count": null,
   "metadata": {},
   "outputs": [],
   "source": []
  },
  {
   "cell_type": "markdown",
   "metadata": {},
   "source": [
    "book_screenshot.py"
   ]
  },
  {
   "cell_type": "code",
   "execution_count": null,
   "metadata": {},
   "outputs": [],
   "source": [
    "#使い方\n",
    "#python book_screenshot.py 右か左か ページ数 保存先のパス\n",
    "#python book_screenshot.py right 342 /Users/yamada/SS/Pyautogui_SS/test_dir\n",
    "\n",
    "import pyautogui\n",
    "import time\n",
    "import sys\n",
    "\n",
    "right_left = sys.argv[1]\n",
    "num_pages = int(sys.argv[2])\n",
    "path_dir = sys.argv[3]\n",
    "\n",
    "# Sleep for 5 seconds to allow me to open book\n",
    "#この間に該当の画面までカーソルをもっていく\n",
    "time.sleep(5)\n",
    "# Range can be changed depending on the number of pages\n",
    "for i in range(num_pages):\n",
    "    # Turn page\n",
    "    #pyautogui.keyDown('right')\n",
    "    #pyautogui.keyUp('right')\n",
    "    pyautogui.press(right_left)\n",
    "    # Take and save a screenshot\n",
    "    pyautogui.screenshot(path_dir + '/page_{}.jpg'.format(i))\n",
    "    time.sleep(0.5)"
   ]
  },
  {
   "cell_type": "code",
   "execution_count": null,
   "metadata": {},
   "outputs": [],
   "source": []
  },
  {
   "cell_type": "markdown",
   "metadata": {},
   "source": [
    "### 先に、ウィンドウをクリックする必要がある！"
   ]
  },
  {
   "cell_type": "markdown",
   "metadata": {},
   "source": [
    "http://www.growgrove.com/entry/2018/02/18/101642"
   ]
  },
  {
   "cell_type": "code",
   "execution_count": 33,
   "metadata": {},
   "outputs": [
    {
     "data": {
      "text/plain": [
       "Size(width=1680, height=1050)"
      ]
     },
     "execution_count": 33,
     "metadata": {},
     "output_type": "execute_result"
    }
   ],
   "source": [
    "#ウィンドウサイズを取得\n",
    "pyautogui.size()"
   ]
  },
  {
   "cell_type": "code",
   "execution_count": 34,
   "metadata": {},
   "outputs": [],
   "source": [
    "#中心は、(840, 525)"
   ]
  },
  {
   "cell_type": "code",
   "execution_count": null,
   "metadata": {},
   "outputs": [],
   "source": []
  },
  {
   "cell_type": "code",
   "execution_count": null,
   "metadata": {},
   "outputs": [],
   "source": []
  },
  {
   "cell_type": "markdown",
   "metadata": {},
   "source": [
    "## Pythonでpngをpdfに変換する"
   ]
  },
  {
   "cell_type": "code",
   "execution_count": 11,
   "metadata": {},
   "outputs": [],
   "source": [
    "from PIL import Image\n",
    "import img2pdf"
   ]
  },
  {
   "cell_type": "code",
   "execution_count": 17,
   "metadata": {},
   "outputs": [],
   "source": [
    "i = \"screenshot1.png\""
   ]
  },
  {
   "cell_type": "code",
   "execution_count": 18,
   "metadata": {},
   "outputs": [],
   "source": [
    "#画像の変換\n",
    "#Pillowモジュールを使用し画像の読み込み\n",
    "img = Image.open(i)\n",
    "#img = img.rotate(-90, expand = True)#この部分は画像を回転させる必要がある場合のみ使用"
   ]
  },
  {
   "cell_type": "code",
   "execution_count": 19,
   "metadata": {},
   "outputs": [
    {
     "name": "stderr",
     "output_type": "stream",
     "text": [
      "WARNING:root:Image contains transparency which cannot be retained in PDF.\n",
      "WARNING:root:img2pdf will not perform a lossy operation.\n",
      "WARNING:root:You can remove the alpha channel using imagemagick:\n",
      "WARNING:root:  $ convert input.png -background white -alpha remove -alpha off output.png\n"
     ]
    },
    {
     "ename": "Exception",
     "evalue": "Refusing to work on images with alpha channel",
     "output_type": "error",
     "traceback": [
      "\u001b[0;31m---------------------------------------------------------------------------\u001b[0m",
      "\u001b[0;31mException\u001b[0m                                 Traceback (most recent call last)",
      "\u001b[0;32m<ipython-input-19-18fba3d1bf2d>\u001b[0m in \u001b[0;36m<module>\u001b[0;34m\u001b[0m\n\u001b[1;32m      1\u001b[0m \u001b[0;31m#画像→pdfファイルに変換\u001b[0m\u001b[0;34m\u001b[0m\u001b[0;34m\u001b[0m\u001b[0;34m\u001b[0m\u001b[0m\n\u001b[0;32m----> 2\u001b[0;31m \u001b[0mimg2pdf\u001b[0m\u001b[0;34m.\u001b[0m\u001b[0mconvert\u001b[0m\u001b[0;34m(\u001b[0m\u001b[0mi\u001b[0m\u001b[0;34m)\u001b[0m\u001b[0;34m\u001b[0m\u001b[0;34m\u001b[0m\u001b[0m\n\u001b[0m\u001b[1;32m      3\u001b[0m \u001b[0mcov_pdf\u001b[0m \u001b[0;34m=\u001b[0m \u001b[0mimg2pdf\u001b[0m\u001b[0;34m.\u001b[0m\u001b[0mconvert\u001b[0m\u001b[0;34m(\u001b[0m\u001b[0mimg\u001b[0m\u001b[0;34m)\u001b[0m\u001b[0;34m\u001b[0m\u001b[0;34m\u001b[0m\u001b[0m\n",
      "\u001b[0;32m~/anaconda3/lib/python3.7/site-packages/img2pdf.py\u001b[0m in \u001b[0;36mconvert\u001b[0;34m(*images, **kwargs)\u001b[0m\n\u001b[1;32m   1827\u001b[0m             \u001b[0mdepth\u001b[0m\u001b[0;34m,\u001b[0m\u001b[0;34m\u001b[0m\u001b[0;34m\u001b[0m\u001b[0m\n\u001b[1;32m   1828\u001b[0m             \u001b[0mrotation\u001b[0m\u001b[0;34m,\u001b[0m\u001b[0;34m\u001b[0m\u001b[0;34m\u001b[0m\u001b[0m\n\u001b[0;32m-> 1829\u001b[0;31m         ) in read_images(rawdata, kwargs[\"colorspace\"], kwargs[\"first_frame_only\"]):\n\u001b[0m\u001b[1;32m   1830\u001b[0m             pagewidth, pageheight, imgwidthpdf, imgheightpdf = kwargs[\"layout_fun\"](\n\u001b[1;32m   1831\u001b[0m                 \u001b[0mimgwidthpx\u001b[0m\u001b[0;34m,\u001b[0m \u001b[0mimgheightpx\u001b[0m\u001b[0;34m,\u001b[0m \u001b[0mndpi\u001b[0m\u001b[0;34m\u001b[0m\u001b[0;34m\u001b[0m\u001b[0m\n",
      "\u001b[0;32m~/anaconda3/lib/python3.7/site-packages/img2pdf.py\u001b[0m in \u001b[0;36mread_images\u001b[0;34m(rawdata, colorspace, first_frame_only)\u001b[0m\n\u001b[1;32m   1223\u001b[0m     \u001b[0;32mif\u001b[0m \u001b[0mimgformat\u001b[0m \u001b[0;34m==\u001b[0m \u001b[0mImageFormat\u001b[0m\u001b[0;34m.\u001b[0m\u001b[0mPNG\u001b[0m \u001b[0;32mand\u001b[0m \u001b[0mrawdata\u001b[0m\u001b[0;34m[\u001b[0m\u001b[0;36m28\u001b[0m\u001b[0;34m]\u001b[0m \u001b[0;34m==\u001b[0m \u001b[0;36m0\u001b[0m\u001b[0;34m:\u001b[0m\u001b[0;34m\u001b[0m\u001b[0;34m\u001b[0m\u001b[0m\n\u001b[1;32m   1224\u001b[0m         color, ndpi, imgwidthpx, imgheightpx, rotation = get_imgmetadata(\n\u001b[0;32m-> 1225\u001b[0;31m             \u001b[0mimgdata\u001b[0m\u001b[0;34m,\u001b[0m \u001b[0mimgformat\u001b[0m\u001b[0;34m,\u001b[0m \u001b[0mdefault_dpi\u001b[0m\u001b[0;34m,\u001b[0m \u001b[0mcolorspace\u001b[0m\u001b[0;34m,\u001b[0m \u001b[0mrawdata\u001b[0m\u001b[0;34m\u001b[0m\u001b[0;34m\u001b[0m\u001b[0m\n\u001b[0m\u001b[1;32m   1226\u001b[0m         )\n\u001b[1;32m   1227\u001b[0m         \u001b[0mpngidat\u001b[0m\u001b[0;34m,\u001b[0m \u001b[0mpalette\u001b[0m \u001b[0;34m=\u001b[0m \u001b[0mparse_png\u001b[0m\u001b[0;34m(\u001b[0m\u001b[0mrawdata\u001b[0m\u001b[0;34m)\u001b[0m\u001b[0;34m\u001b[0m\u001b[0;34m\u001b[0m\u001b[0m\n",
      "\u001b[0;32m~/anaconda3/lib/python3.7/site-packages/img2pdf.py\u001b[0m in \u001b[0;36mget_imgmetadata\u001b[0;34m(imgdata, imgformat, default_dpi, colorspace, rawdata)\u001b[0m\n\u001b[1;32m    988\u001b[0m             \u001b[0;34m\"remove -alpha off output.png\"\u001b[0m\u001b[0;34m\u001b[0m\u001b[0;34m\u001b[0m\u001b[0m\n\u001b[1;32m    989\u001b[0m         )\n\u001b[0;32m--> 990\u001b[0;31m         \u001b[0;32mraise\u001b[0m \u001b[0mException\u001b[0m\u001b[0;34m(\u001b[0m\u001b[0;34m\"Refusing to work on images with alpha channel\"\u001b[0m\u001b[0;34m)\u001b[0m\u001b[0;34m\u001b[0m\u001b[0;34m\u001b[0m\u001b[0m\n\u001b[0m\u001b[1;32m    991\u001b[0m \u001b[0;34m\u001b[0m\u001b[0m\n\u001b[1;32m    992\u001b[0m     \u001b[0;31m# Since commit 07a96209597c5e8dfe785c757d7051ce67a980fb or release 4.1.0\u001b[0m\u001b[0;34m\u001b[0m\u001b[0;34m\u001b[0m\u001b[0;34m\u001b[0m\u001b[0m\n",
      "\u001b[0;31mException\u001b[0m: Refusing to work on images with alpha channel"
     ]
    }
   ],
   "source": [
    "#画像→pdfファイルに変換\n",
    "img2pdf.convert(i)\n",
    "cov_pdf = img2pdf.convert(img)"
   ]
  },
  {
   "cell_type": "code",
   "execution_count": null,
   "metadata": {},
   "outputs": [],
   "source": []
  },
  {
   "cell_type": "code",
   "execution_count": null,
   "metadata": {},
   "outputs": [],
   "source": []
  },
  {
   "cell_type": "code",
   "execution_count": null,
   "metadata": {},
   "outputs": [],
   "source": []
  },
  {
   "cell_type": "markdown",
   "metadata": {},
   "source": [
    "まとめて変換→結合までできる"
   ]
  },
  {
   "cell_type": "code",
   "execution_count": null,
   "metadata": {},
   "outputs": [],
   "source": [
    "import os\n",
    "from PIL import Image\n",
    "import img2pdf\n",
    "import PyPDF2"
   ]
  },
  {
   "cell_type": "code",
   "execution_count": null,
   "metadata": {},
   "outputs": [],
   "source": []
  },
  {
   "cell_type": "code",
   "execution_count": null,
   "metadata": {},
   "outputs": [],
   "source": []
  },
  {
   "cell_type": "markdown",
   "metadata": {},
   "source": [
    "### png →　jpgに変換する"
   ]
  },
  {
   "cell_type": "code",
   "execution_count": 20,
   "metadata": {},
   "outputs": [],
   "source": [
    "from PIL import Image"
   ]
  },
  {
   "cell_type": "code",
   "execution_count": 22,
   "metadata": {},
   "outputs": [],
   "source": [
    "im = Image.open(\"screenshot1.png\")\n",
    "rgb_im = im.convert('RGB')\n",
    "rgb_im.save('screenshot1.jpg')"
   ]
  },
  {
   "cell_type": "code",
   "execution_count": null,
   "metadata": {},
   "outputs": [],
   "source": []
  },
  {
   "cell_type": "code",
   "execution_count": 24,
   "metadata": {},
   "outputs": [],
   "source": [
    "#pdfへ変換\n",
    "i = 'screenshot1.jpg'\n",
    "#Pillowモジュールを使用し画像の読み込み\n",
    "img = Image.open(i)\n",
    "#img = img.rotate(-90, expand = True)#この部分は画像を回転させる必要がある場合のみ使用\n",
    "\n",
    "#画像→pdfファイルに変換\n",
    "cov_pdf = img2pdf.convert(i)"
   ]
  },
  {
   "cell_type": "code",
   "execution_count": 25,
   "metadata": {},
   "outputs": [],
   "source": [
    "pdf_name = 'screenshot1.pdf'\n",
    "\n",
    "#pdfファイルを読み込み（pdf_nameで指定したpdfがない場合、pdf_nameをファイル名として新規にpdfファイルを作成）\n",
    "file = open(pdf_name, \"wb\")\n",
    "#pdfファイルを書き込み\n",
    "file.write(cov_pdf)\n",
    "\n",
    "#開いているファイルを閉じる\n",
    "img.close()\n",
    "file.close()"
   ]
  },
  {
   "cell_type": "markdown",
   "metadata": {},
   "source": [
    "## jpgでスクショ→pdfへ変換、が楽そう"
   ]
  },
  {
   "cell_type": "markdown",
   "metadata": {},
   "source": [
    "https://kimamani89.com/2019/05/06/post-475/"
   ]
  },
  {
   "cell_type": "code",
   "execution_count": 35,
   "metadata": {},
   "outputs": [],
   "source": [
    "import os\n",
    "from PIL import Image\n",
    "import img2pdf\n",
    "import PyPDF2"
   ]
  },
  {
   "cell_type": "code",
   "execution_count": null,
   "metadata": {},
   "outputs": [],
   "source": [
    "import glob"
   ]
  },
  {
   "cell_type": "code",
   "execution_count": null,
   "metadata": {},
   "outputs": [],
   "source": [
    "#ディレクトリを2つに分けている理由は画像を入れるフォルダとpdfを入れるフォルダを分けるため。\n",
    "path = \"C://Users/Hayato/Desktop/RaspberryPiで始める機械学習\"\n",
    "pdf_path = \"C://Users/Hayato/Desktop/RaspberryPiで始める機械学習2\"\n",
    "os.chdir(path)\n",
    " \n",
    "#画像を読み込み、pdfファイルに変換\n",
    "for i in os.listdir(path):\n",
    "    #pdfファイルの保存名を指定\n",
    "    pdf_name = pdf_path + \"/\" +  \"PDF_\" + str(i) + \".pdf\"\n",
    "    \n",
    "    #Pillowモジュールを使用し画像の読み込み\n",
    "    img = Image.open(i)\n",
    "    img = img.rotate(-90, expand = True)#この部分は画像を回転させる必要がある場合のみ使用\n",
    "    \n",
    "    #画像→pdfファイルに変換\n",
    "    cov_pdf = img2pdf.convert(i)\n",
    "    \n",
    "    #pdfファイルを読み込み（pdf_nameで指定したpdfがない場合、pdf_nameをファイル名として新規にpdfファイルを作成）\n",
    "    file = open(pdf_name, \"wb\")\n",
    "    #pdfファイルを書き込み\n",
    "    file.write(cov_pdf)\n",
    "    \n",
    "    #開いているファイルを閉じる\n",
    "    img.close()\n",
    "    file.close()\n",
    "\n",
    "#複数のpdfファイルを結合する\n",
    "merge = PyPDF2.PdfFileMerger()\n",
    "for j in os.listdir(pdf_path):\n",
    "    merge.append(pdf_path + \"/\" + j)\n",
    " \n",
    "merge.write(pdf_path + \"/\" + \"RaspberryPiで始める機械学習.pdf\")\n",
    "merge.close()\n",
    " \n",
    "print(\"変換終了\")"
   ]
  },
  {
   "cell_type": "code",
   "execution_count": null,
   "metadata": {},
   "outputs": [],
   "source": []
  },
  {
   "cell_type": "code",
   "execution_count": null,
   "metadata": {},
   "outputs": [],
   "source": [
    "path = './test_dir/*.jpg'\n",
    "list_jpg = glob.glob(path)\n",
    "\n",
    "for i in list_jpg:\n",
    "    #pdfファイルの保存名を指定\n",
    "    pdf_name = pdf_path + \"/\" +  \"PDF_\" + str(i) + \".pdf\"\n",
    "    \n",
    "    #Pillowモジュールを使用し画像の読み込み\n",
    "    img = Image.open(i)\n",
    "    img = img.rotate(-90, expand = True)#この部分は画像を回転させる必要がある場合のみ使用\n",
    "    \n",
    "    #画像→pdfファイルに変換\n",
    "    cov_pdf = img2pdf.convert(i)\n",
    "    \n",
    "    #pdfファイルを読み込み（pdf_nameで指定したpdfがない場合、pdf_nameをファイル名として新規にpdfファイルを作成）\n",
    "    file = open(pdf_name, \"wb\")\n",
    "    #pdfファイルを書き込み\n",
    "    file.write(cov_pdf)\n",
    "    \n",
    "    #開いているファイルを閉じる\n",
    "    img.close()\n",
    "    file.close()"
   ]
  },
  {
   "cell_type": "code",
   "execution_count": null,
   "metadata": {},
   "outputs": [],
   "source": []
  },
  {
   "cell_type": "code",
   "execution_count": 48,
   "metadata": {},
   "outputs": [],
   "source": [
    "path = './test_dir/*.jpg'\n",
    "list_jpg = glob.glob(path)"
   ]
  },
  {
   "cell_type": "markdown",
   "metadata": {},
   "source": [
    "pdf後の名前"
   ]
  },
  {
   "cell_type": "code",
   "execution_count": 49,
   "metadata": {},
   "outputs": [
    {
     "name": "stdout",
     "output_type": "stream",
     "text": [
      "./test_dir/page_2.jpg\n",
      "./test_dir/page_3.jpg\n",
      "./test_dir/page_1.jpg\n",
      "./test_dir/page_0.jpg\n",
      "./test_dir/page_4.jpg\n",
      "./test_dir/page_5.jpg\n",
      "./test_dir/page_7.jpg\n",
      "./test_dir/page_6.jpg\n",
      "./test_dir/page_8.jpg\n",
      "./test_dir/page_9.jpg\n"
     ]
    }
   ],
   "source": [
    "for i in list_jpg:\n",
    "    print(i)"
   ]
  },
  {
   "cell_type": "code",
   "execution_count": 56,
   "metadata": {},
   "outputs": [],
   "source": [
    "name, ext = os.path.splitext(i)"
   ]
  },
  {
   "cell_type": "code",
   "execution_count": 57,
   "metadata": {
    "scrolled": true
   },
   "outputs": [
    {
     "data": {
      "text/plain": [
       "'./test_dir/page_9'"
      ]
     },
     "execution_count": 57,
     "metadata": {},
     "output_type": "execute_result"
    }
   ],
   "source": [
    "name"
   ]
  },
  {
   "cell_type": "code",
   "execution_count": 58,
   "metadata": {},
   "outputs": [
    {
     "data": {
      "text/plain": [
       "'page_9'"
      ]
     },
     "execution_count": 58,
     "metadata": {},
     "output_type": "execute_result"
    }
   ],
   "source": [
    "name.split(\"/\")[-1]"
   ]
  },
  {
   "cell_type": "code",
   "execution_count": 59,
   "metadata": {},
   "outputs": [],
   "source": [
    "name_pdf = name.split(\"/\")[-1] + \".pdf\""
   ]
  },
  {
   "cell_type": "code",
   "execution_count": 60,
   "metadata": {
    "scrolled": true
   },
   "outputs": [
    {
     "name": "stderr",
     "output_type": "stream",
     "text": [
      "WARNING:root:Image contains transparency which cannot be retained in PDF.\n",
      "WARNING:root:img2pdf will not perform a lossy operation.\n",
      "WARNING:root:You can remove the alpha channel using imagemagick:\n",
      "WARNING:root:  $ convert input.png -background white -alpha remove -alpha off output.png\n"
     ]
    },
    {
     "ename": "Exception",
     "evalue": "Refusing to work on images with alpha channel",
     "output_type": "error",
     "traceback": [
      "\u001b[0;31m---------------------------------------------------------------------------\u001b[0m",
      "\u001b[0;31mException\u001b[0m                                 Traceback (most recent call last)",
      "\u001b[0;32m<ipython-input-60-212e53c20b28>\u001b[0m in \u001b[0;36m<module>\u001b[0;34m\u001b[0m\n\u001b[1;32m      4\u001b[0m \u001b[0;34m\u001b[0m\u001b[0m\n\u001b[1;32m      5\u001b[0m \u001b[0;31m#画像→pdfファイルに変換\u001b[0m\u001b[0;34m\u001b[0m\u001b[0;34m\u001b[0m\u001b[0;34m\u001b[0m\u001b[0m\n\u001b[0;32m----> 6\u001b[0;31m \u001b[0mcov_pdf\u001b[0m \u001b[0;34m=\u001b[0m \u001b[0mimg2pdf\u001b[0m\u001b[0;34m.\u001b[0m\u001b[0mconvert\u001b[0m\u001b[0;34m(\u001b[0m\u001b[0mi\u001b[0m\u001b[0;34m)\u001b[0m\u001b[0;34m\u001b[0m\u001b[0;34m\u001b[0m\u001b[0m\n\u001b[0m\u001b[1;32m      7\u001b[0m \u001b[0;31m#pdfファイルを読み込み（pdf_nameで指定したpdfがない場合、pdf_nameをファイル名として新規にpdfファイルを作成）\u001b[0m\u001b[0;34m\u001b[0m\u001b[0;34m\u001b[0m\u001b[0;34m\u001b[0m\u001b[0m\n\u001b[1;32m      8\u001b[0m \u001b[0mfile\u001b[0m \u001b[0;34m=\u001b[0m \u001b[0mopen\u001b[0m\u001b[0;34m(\u001b[0m\u001b[0mname_pdf\u001b[0m\u001b[0;34m,\u001b[0m \u001b[0;34m\"wb\"\u001b[0m\u001b[0;34m)\u001b[0m\u001b[0;34m\u001b[0m\u001b[0;34m\u001b[0m\u001b[0m\n",
      "\u001b[0;32m~/anaconda3/lib/python3.7/site-packages/img2pdf.py\u001b[0m in \u001b[0;36mconvert\u001b[0;34m(*images, **kwargs)\u001b[0m\n\u001b[1;32m   1827\u001b[0m             \u001b[0mdepth\u001b[0m\u001b[0;34m,\u001b[0m\u001b[0;34m\u001b[0m\u001b[0;34m\u001b[0m\u001b[0m\n\u001b[1;32m   1828\u001b[0m             \u001b[0mrotation\u001b[0m\u001b[0;34m,\u001b[0m\u001b[0;34m\u001b[0m\u001b[0;34m\u001b[0m\u001b[0m\n\u001b[0;32m-> 1829\u001b[0;31m         ) in read_images(rawdata, kwargs[\"colorspace\"], kwargs[\"first_frame_only\"]):\n\u001b[0m\u001b[1;32m   1830\u001b[0m             pagewidth, pageheight, imgwidthpdf, imgheightpdf = kwargs[\"layout_fun\"](\n\u001b[1;32m   1831\u001b[0m                 \u001b[0mimgwidthpx\u001b[0m\u001b[0;34m,\u001b[0m \u001b[0mimgheightpx\u001b[0m\u001b[0;34m,\u001b[0m \u001b[0mndpi\u001b[0m\u001b[0;34m\u001b[0m\u001b[0;34m\u001b[0m\u001b[0m\n",
      "\u001b[0;32m~/anaconda3/lib/python3.7/site-packages/img2pdf.py\u001b[0m in \u001b[0;36mread_images\u001b[0;34m(rawdata, colorspace, first_frame_only)\u001b[0m\n\u001b[1;32m   1223\u001b[0m     \u001b[0;32mif\u001b[0m \u001b[0mimgformat\u001b[0m \u001b[0;34m==\u001b[0m \u001b[0mImageFormat\u001b[0m\u001b[0;34m.\u001b[0m\u001b[0mPNG\u001b[0m \u001b[0;32mand\u001b[0m \u001b[0mrawdata\u001b[0m\u001b[0;34m[\u001b[0m\u001b[0;36m28\u001b[0m\u001b[0;34m]\u001b[0m \u001b[0;34m==\u001b[0m \u001b[0;36m0\u001b[0m\u001b[0;34m:\u001b[0m\u001b[0;34m\u001b[0m\u001b[0;34m\u001b[0m\u001b[0m\n\u001b[1;32m   1224\u001b[0m         color, ndpi, imgwidthpx, imgheightpx, rotation = get_imgmetadata(\n\u001b[0;32m-> 1225\u001b[0;31m             \u001b[0mimgdata\u001b[0m\u001b[0;34m,\u001b[0m \u001b[0mimgformat\u001b[0m\u001b[0;34m,\u001b[0m \u001b[0mdefault_dpi\u001b[0m\u001b[0;34m,\u001b[0m \u001b[0mcolorspace\u001b[0m\u001b[0;34m,\u001b[0m \u001b[0mrawdata\u001b[0m\u001b[0;34m\u001b[0m\u001b[0;34m\u001b[0m\u001b[0m\n\u001b[0m\u001b[1;32m   1226\u001b[0m         )\n\u001b[1;32m   1227\u001b[0m         \u001b[0mpngidat\u001b[0m\u001b[0;34m,\u001b[0m \u001b[0mpalette\u001b[0m \u001b[0;34m=\u001b[0m \u001b[0mparse_png\u001b[0m\u001b[0;34m(\u001b[0m\u001b[0mrawdata\u001b[0m\u001b[0;34m)\u001b[0m\u001b[0;34m\u001b[0m\u001b[0;34m\u001b[0m\u001b[0m\n",
      "\u001b[0;32m~/anaconda3/lib/python3.7/site-packages/img2pdf.py\u001b[0m in \u001b[0;36mget_imgmetadata\u001b[0;34m(imgdata, imgformat, default_dpi, colorspace, rawdata)\u001b[0m\n\u001b[1;32m    988\u001b[0m             \u001b[0;34m\"remove -alpha off output.png\"\u001b[0m\u001b[0;34m\u001b[0m\u001b[0;34m\u001b[0m\u001b[0m\n\u001b[1;32m    989\u001b[0m         )\n\u001b[0;32m--> 990\u001b[0;31m         \u001b[0;32mraise\u001b[0m \u001b[0mException\u001b[0m\u001b[0;34m(\u001b[0m\u001b[0;34m\"Refusing to work on images with alpha channel\"\u001b[0m\u001b[0;34m)\u001b[0m\u001b[0;34m\u001b[0m\u001b[0;34m\u001b[0m\u001b[0m\n\u001b[0m\u001b[1;32m    991\u001b[0m \u001b[0;34m\u001b[0m\u001b[0m\n\u001b[1;32m    992\u001b[0m     \u001b[0;31m# Since commit 07a96209597c5e8dfe785c757d7051ce67a980fb or release 4.1.0\u001b[0m\u001b[0;34m\u001b[0m\u001b[0;34m\u001b[0m\u001b[0;34m\u001b[0m\u001b[0m\n",
      "\u001b[0;31mException\u001b[0m: Refusing to work on images with alpha channel"
     ]
    }
   ],
   "source": [
    "#Pillowモジュールを使用し画像の読み込み\n",
    "img = Image.open(i)\n",
    "#img = img.rotate(-90, expand = True)#この部分は画像を回転させる必要がある場合のみ使用\n",
    "    \n",
    "#画像→pdfファイルに変換\n",
    "cov_pdf = img2pdf.convert(i)\n",
    "#pdfファイルを読み込み（pdf_nameで指定したpdfがない場合、pdf_nameをファイル名として新規にpdfファイルを作成）\n",
    "file = open(name_pdf, \"wb\")\n",
    "#pdfファイルを書き込み\n",
    "file.write(cov_pdf)\n",
    "\n",
    "#開いているファイルを閉じる\n",
    "img.close()\n",
    "file.close()"
   ]
  },
  {
   "cell_type": "code",
   "execution_count": 62,
   "metadata": {},
   "outputs": [],
   "source": [
    "#変換しないとダメっぽい"
   ]
  },
  {
   "cell_type": "markdown",
   "metadata": {},
   "source": [
    "### png →　jpgに変換する"
   ]
  },
  {
   "cell_type": "code",
   "execution_count": 63,
   "metadata": {},
   "outputs": [],
   "source": [
    "from PIL import Image"
   ]
  },
  {
   "cell_type": "code",
   "execution_count": 66,
   "metadata": {},
   "outputs": [],
   "source": [
    "path = './test_dir'\n",
    "path_ = path + '/*.png'\n",
    "#保存先のディレクトリを作成\n",
    "os.mkdir(path + \"/jpg\")\n",
    "\n",
    "list_png = glob.glob(path_)\n",
    "\n",
    "for i in list_png:\n",
    "    name, ext = os.path.splitext(i)\n",
    "    name_png = name.split(\"/\")[-1] + \".jpg\"\n",
    "    \n",
    "    #変換\n",
    "    im = Image.open(i)\n",
    "    rgb_im = im.convert('RGB')\n",
    "    rgb_im.save(path + \"/jpg/\" + name_png)"
   ]
  },
  {
   "cell_type": "markdown",
   "metadata": {},
   "source": [
    "jpg→pdfの変換"
   ]
  },
  {
   "cell_type": "code",
   "execution_count": 72,
   "metadata": {},
   "outputs": [],
   "source": [
    "path_jpg = path + \"/jpg/*.jpg\"\n",
    "list_jpg = glob.glob(path_jpg)\n",
    "#保存先のディレクトリを作成\n",
    "os.mkdir(path + \"/pdf\")\n",
    "\n",
    "for i in list_jpg:\n",
    "    name, ext = os.path.splitext(i)\n",
    "    name_pdf = name.split(\"/\")[-1] + \".pdf\"\n",
    "    \n",
    "    #変換\n",
    "    #Pillowモジュールを使用し画像の読み込み\n",
    "    img = Image.open(i)\n",
    "    #画像→pdfファイルに変換\n",
    "    cov_pdf = img2pdf.convert(i)\n",
    "    #pdfファイルを読み込み（pdf_nameで指定したpdfがない場合、pdf_nameをファイル名として新規にpdfファイルを作成）\n",
    "    file = open(path + \"/pdf/\" + name_pdf, \"wb\")\n",
    "    #pdfファイルを書き込み\n",
    "    file.write(cov_pdf)\n",
    "\n",
    "    #開いているファイルを閉じる\n",
    "    img.close()\n",
    "    file.close()"
   ]
  },
  {
   "cell_type": "markdown",
   "metadata": {},
   "source": [
    "### PDFをひとつにまとめる"
   ]
  },
  {
   "cell_type": "code",
   "execution_count": 73,
   "metadata": {},
   "outputs": [],
   "source": [
    "import PyPDF2"
   ]
  },
  {
   "cell_type": "code",
   "execution_count": 80,
   "metadata": {},
   "outputs": [
    {
     "name": "stdout",
     "output_type": "stream",
     "text": [
      "変換終了\n"
     ]
    }
   ],
   "source": [
    "#複数のpdfファイルを結合する\n",
    "pdf_path = path + \"/pdf/\"\n",
    "\n",
    "merge = PyPDF2.PdfFileMerger()\n",
    "for j in sorted(os.listdir(pdf_path), key=lambda s: int(re.search(r'\\d+', s).group())):\n",
    "    merge.append(pdf_path + \"/\" + j)\n",
    "merge.write(path + \"/\" + \"all.pdf\")\n",
    "merge.close()\n",
    " \n",
    "print(\"変換終了\")"
   ]
  },
  {
   "cell_type": "markdown",
   "metadata": {},
   "source": [
    "並び順をsortする"
   ]
  },
  {
   "cell_type": "code",
   "execution_count": 75,
   "metadata": {
    "scrolled": true
   },
   "outputs": [
    {
     "data": {
      "text/plain": [
       "['page_0.pdf',\n",
       " 'page_1.pdf',\n",
       " 'page_3.pdf',\n",
       " 'page_2.pdf',\n",
       " 'page_6.pdf',\n",
       " 'page_7.pdf',\n",
       " 'page_5.pdf',\n",
       " 'page_4.pdf',\n",
       " 'page_9.pdf',\n",
       " 'page_8.pdf']"
      ]
     },
     "execution_count": 75,
     "metadata": {},
     "output_type": "execute_result"
    }
   ],
   "source": [
    "os.listdir(pdf_path)"
   ]
  },
  {
   "cell_type": "code",
   "execution_count": 77,
   "metadata": {},
   "outputs": [
    {
     "data": {
      "text/plain": [
       "['page_0.pdf',\n",
       " 'page_1.pdf',\n",
       " 'page_2.pdf',\n",
       " 'page_3.pdf',\n",
       " 'page_4.pdf',\n",
       " 'page_5.pdf',\n",
       " 'page_6.pdf',\n",
       " 'page_7.pdf',\n",
       " 'page_8.pdf',\n",
       " 'page_9.pdf']"
      ]
     },
     "execution_count": 77,
     "metadata": {},
     "output_type": "execute_result"
    }
   ],
   "source": [
    "sorted(os.listdir(pdf_path))"
   ]
  },
  {
   "cell_type": "code",
   "execution_count": 92,
   "metadata": {},
   "outputs": [],
   "source": [
    "list_ = [1, 123, 34, 11]"
   ]
  },
  {
   "cell_type": "code",
   "execution_count": 94,
   "metadata": {},
   "outputs": [
    {
     "data": {
      "text/plain": [
       "[1, 11, 34, 123]"
      ]
     },
     "execution_count": 94,
     "metadata": {},
     "output_type": "execute_result"
    }
   ],
   "source": [
    "sorted(list_)"
   ]
  },
  {
   "cell_type": "markdown",
   "metadata": {},
   "source": [
    "https://note.nkmk.me/python-sort-num-str/"
   ]
  },
  {
   "cell_type": "code",
   "execution_count": 96,
   "metadata": {},
   "outputs": [],
   "source": [
    "import re"
   ]
  },
  {
   "cell_type": "code",
   "execution_count": 97,
   "metadata": {},
   "outputs": [],
   "source": [
    "s = \"page_3.pdf\""
   ]
  },
  {
   "cell_type": "code",
   "execution_count": 98,
   "metadata": {},
   "outputs": [
    {
     "name": "stdout",
     "output_type": "stream",
     "text": [
      "3\n"
     ]
    }
   ],
   "source": [
    "print(re.search(r'\\d+', s).group())"
   ]
  },
  {
   "cell_type": "code",
   "execution_count": 99,
   "metadata": {},
   "outputs": [
    {
     "data": {
      "text/plain": [
       "['page_0.pdf',\n",
       " 'page_1.pdf',\n",
       " 'page_2.pdf',\n",
       " 'page_3.pdf',\n",
       " 'page_4.pdf',\n",
       " 'page_5.pdf',\n",
       " 'page_6.pdf',\n",
       " 'page_7.pdf',\n",
       " 'page_8.pdf',\n",
       " 'page_9.pdf']"
      ]
     },
     "execution_count": 99,
     "metadata": {},
     "output_type": "execute_result"
    }
   ],
   "source": [
    "sorted(os.listdir(pdf_path), key=lambda s: int(re.search(r'\\d+', s).group()))"
   ]
  },
  {
   "cell_type": "code",
   "execution_count": null,
   "metadata": {},
   "outputs": [],
   "source": []
  },
  {
   "cell_type": "markdown",
   "metadata": {},
   "source": [
    "### すべて終了後、png、jpg、各pdfを削除する"
   ]
  },
  {
   "cell_type": "code",
   "execution_count": 79,
   "metadata": {},
   "outputs": [
    {
     "name": "stdout",
     "output_type": "stream",
     "text": [
      "20200110_pyautogui_ss.ipynb  page_2.jpg  page_6.jpg  screenshot1.jpg  test.py\r\n",
      "book_screenshot.py\t     page_3.jpg  page_7.jpg  screenshot1.pdf  test_dir\r\n",
      "page_0.jpg\t\t     page_4.jpg  page_8.jpg  screenshot1.png\r\n",
      "page_1.jpg\t\t     page_5.jpg  page_9.jpg  screenshot2.png\r\n"
     ]
    }
   ],
   "source": [
    "!ls"
   ]
  },
  {
   "cell_type": "code",
   "execution_count": 81,
   "metadata": {},
   "outputs": [
    {
     "data": {
      "text/plain": [
       "'./test_dir'"
      ]
     },
     "execution_count": 81,
     "metadata": {},
     "output_type": "execute_result"
    }
   ],
   "source": [
    "path"
   ]
  },
  {
   "cell_type": "markdown",
   "metadata": {},
   "source": [
    "ディレクトリ、jpg,pdfを削除"
   ]
  },
  {
   "cell_type": "code",
   "execution_count": 83,
   "metadata": {},
   "outputs": [],
   "source": [
    "import shutil"
   ]
  },
  {
   "cell_type": "code",
   "execution_count": 84,
   "metadata": {},
   "outputs": [],
   "source": [
    "shutil.rmtree(path + \"/pdf\")"
   ]
  },
  {
   "cell_type": "code",
   "execution_count": 85,
   "metadata": {},
   "outputs": [],
   "source": [
    "shutil.rmtree(path + \"/jpg\")"
   ]
  },
  {
   "cell_type": "markdown",
   "metadata": {},
   "source": [
    "pngをすべて削除"
   ]
  },
  {
   "cell_type": "code",
   "execution_count": 86,
   "metadata": {},
   "outputs": [],
   "source": [
    "list_png = glob.glob(path + \"/*.png\")"
   ]
  },
  {
   "cell_type": "code",
   "execution_count": 87,
   "metadata": {},
   "outputs": [
    {
     "data": {
      "text/plain": [
       "['./test_dir/page_2.png',\n",
       " './test_dir/page_3.png',\n",
       " './test_dir/page_1.png',\n",
       " './test_dir/page_0.png',\n",
       " './test_dir/page_4.png',\n",
       " './test_dir/page_5.png',\n",
       " './test_dir/page_7.png',\n",
       " './test_dir/page_6.png',\n",
       " './test_dir/page_8.png',\n",
       " './test_dir/page_9.png']"
      ]
     },
     "execution_count": 87,
     "metadata": {},
     "output_type": "execute_result"
    }
   ],
   "source": [
    "list_png"
   ]
  },
  {
   "cell_type": "code",
   "execution_count": 88,
   "metadata": {},
   "outputs": [],
   "source": [
    "for i in list_png:\n",
    "    os.remove(i)"
   ]
  },
  {
   "cell_type": "markdown",
   "metadata": {},
   "source": [
    "### all.pdfを移動させる"
   ]
  },
  {
   "cell_type": "code",
   "execution_count": 89,
   "metadata": {},
   "outputs": [
    {
     "data": {
      "text/plain": [
       "'./test_dir/../all.pdf'"
      ]
     },
     "execution_count": 89,
     "metadata": {},
     "output_type": "execute_result"
    }
   ],
   "source": [
    "shutil.move(path + '/all.pdf', path + '/../')"
   ]
  },
  {
   "cell_type": "markdown",
   "metadata": {},
   "source": [
    "移動させた後、pathのディレクトリを削除"
   ]
  },
  {
   "cell_type": "code",
   "execution_count": 91,
   "metadata": {},
   "outputs": [],
   "source": [
    "shutil.rmtree(path)"
   ]
  },
  {
   "cell_type": "markdown",
   "metadata": {},
   "source": [
    "## まとめる"
   ]
  },
  {
   "cell_type": "code",
   "execution_count": null,
   "metadata": {},
   "outputs": [],
   "source": [
    "python book_screenshot_full.py left 10 /Users/yamada/SS/Pyautogui_SS/test_dir"
   ]
  },
  {
   "cell_type": "code",
   "execution_count": null,
   "metadata": {},
   "outputs": [],
   "source": [
    "#使い方\n",
    "#python book_screenshot_full.py 右か左か ページ数 保存先のパス\n",
    "#python book_screenshot.py_full right 342 /Users/yamada/SS/Pyautogui_SS/test_dir\n",
    "\n",
    "import pyautogui\n",
    "import time\n",
    "import sys\n",
    "import os\n",
    "#pdfへ変換\n",
    "import glob\n",
    "from PIL import Image\n",
    "import img2pdf\n",
    "#pdfをまとめる\n",
    "import re\n",
    "import PyPDF2\n",
    "#ディレクトリの削除、移動\n",
    "import shutil\n",
    "\n",
    "right_left = sys.argv[1]\n",
    "num_pages = int(sys.argv[2])\n",
    "path_dir = sys.argv[3]\n",
    "#保存先のディレクトリを作成\n",
    "os.makedirs(path_dir)\n",
    "\n",
    "# Sleep for 5 seconds to allow me to open book\n",
    "time.sleep(5)\n",
    "# Range can be changed depending on the number of pages\n",
    "for i in range(num_pages):\n",
    "    time.sleep(0.5)\n",
    "    # Turn page\n",
    "    pyautogui.press(right_left)\n",
    "    # Take and save a screenshot\n",
    "    pyautogui.screenshot(path_dir + '/page_{}.png'.format(i))\n",
    "    time.sleep(0.5)\n",
    "    \n",
    "#png→jpg\n",
    "path_ = path_dir + '/*.png'\n",
    "#保存先のディレクトリを作成\n",
    "os.makedirs(path_dir + \"/jpg\")\n",
    "\n",
    "list_png = glob.glob(path_)\n",
    "\n",
    "for i in list_png:\n",
    "    name, ext = os.path.splitext(i)\n",
    "    name_png = name.split(\"/\")[-1] + \".jpg\"\n",
    "    \n",
    "    #変換\n",
    "    im = Image.open(i)\n",
    "    rgb_im = im.convert('RGB')\n",
    "    rgb_im.save(path_dir + \"/jpg/\" + name_png)\n",
    "\n",
    "#jpg→pdf\n",
    "path_jpg = path_dir + \"/jpg/*.jpg\"\n",
    "list_jpg = glob.glob(path_jpg)\n",
    "#保存先のディレクトリを作成\n",
    "os.makedirs(path_dir + \"/pdf\")\n",
    "\n",
    "for i in list_jpg:\n",
    "    name, ext = os.path.splitext(i)\n",
    "    name_pdf = name.split(\"/\")[-1] + \".pdf\"\n",
    "    \n",
    "    #変換\n",
    "    #Pillowモジュールを使用し画像の読み込み\n",
    "    img = Image.open(i)\n",
    "    #画像→pdfファイルに変換\n",
    "    cov_pdf = img2pdf.convert(i)\n",
    "    #pdfファイルを読み込み（pdf_nameで指定したpdfがない場合、pdf_nameをファイル名として新規にpdfファイルを作成）\n",
    "    file = open(path_dir + \"/pdf/\" + name_pdf, \"wb\")\n",
    "    #pdfファイルを書き込み\n",
    "    file.write(cov_pdf)\n",
    "\n",
    "    #開いているファイルを閉じる\n",
    "    img.close()\n",
    "    file.close()\n",
    "    \n",
    "#複数のpdfファイルを結合する\n",
    "pdf_path = path_dir + \"/pdf/\"\n",
    "\n",
    "merge = PyPDF2.PdfFileMerger()\n",
    "for j in sorted(os.listdir(pdf_path), key=lambda s: int(re.search(r'\\d+', s).group())):\n",
    "    merge.append(pdf_path + \"/\" + j)\n",
    "merge.write(path_dir + \"/\" + \"all.pdf\")\n",
    "merge.close()\n",
    "print(\"変換終了\")\n",
    "\n",
    "#すべて終了後、all.pdf以外のファイル、ディレクトリを削除する\n",
    "shutil.move(path_dir + '/all.pdf', path_dir + '/../')\n",
    "shutil.rmtree(path_dir)"
   ]
  },
  {
   "cell_type": "markdown",
   "metadata": {},
   "source": [
    "FPDFをつかってみる"
   ]
  },
  {
   "cell_type": "markdown",
   "metadata": {},
   "source": [
    "https://kotaeta.com/60028361"
   ]
  },
  {
   "cell_type": "code",
   "execution_count": 36,
   "metadata": {
    "scrolled": true
   },
   "outputs": [
    {
     "ename": "ModuleNotFoundError",
     "evalue": "No module named 'fpdf'",
     "output_type": "error",
     "traceback": [
      "\u001b[0;31m---------------------------------------------------------------------------\u001b[0m",
      "\u001b[0;31mModuleNotFoundError\u001b[0m                       Traceback (most recent call last)",
      "\u001b[0;32m<ipython-input-36-d6974d216d80>\u001b[0m in \u001b[0;36m<module>\u001b[0;34m\u001b[0m\n\u001b[0;32m----> 1\u001b[0;31m \u001b[0;32mfrom\u001b[0m \u001b[0mfpdf\u001b[0m \u001b[0;32mimport\u001b[0m \u001b[0mFPDF\u001b[0m\u001b[0;34m\u001b[0m\u001b[0;34m\u001b[0m\u001b[0m\n\u001b[0m",
      "\u001b[0;31mModuleNotFoundError\u001b[0m: No module named 'fpdf'"
     ]
    }
   ],
   "source": [
    "from fpdf import FPDF"
   ]
  },
  {
   "cell_type": "code",
   "execution_count": 42,
   "metadata": {},
   "outputs": [],
   "source": [
    "import os\n",
    "import glob"
   ]
  },
  {
   "cell_type": "code",
   "execution_count": 39,
   "metadata": {},
   "outputs": [
    {
     "name": "stdout",
     "output_type": "stream",
     "text": [
      "20200110_pyautogui_ss.ipynb  screenshot2.png\t  test_dirpage_1.jpg\r\n",
      "book_screenshot.py\t     test.py\t\t  test_dirpage_2.jpg\r\n",
      "screenshot1.jpg\t\t     test_dir\t\t  test_dirpage_3.jpg\r\n",
      "screenshot1.pdf\t\t     test_dirpage_%d.jpg  test_dirpage_4.jpg\r\n",
      "screenshot1.png\t\t     test_dirpage_0.jpg\r\n"
     ]
    }
   ],
   "source": [
    "!ls"
   ]
  },
  {
   "cell_type": "code",
   "execution_count": 38,
   "metadata": {},
   "outputs": [],
   "source": [
    "#ファイルのリストを取得"
   ]
  },
  {
   "cell_type": "code",
   "execution_count": 40,
   "metadata": {
    "scrolled": true
   },
   "outputs": [
    {
     "data": {
      "text/plain": [
       "['page_2.jpg',\n",
       " 'page_3.jpg',\n",
       " 'page_1.jpg',\n",
       " 'page_0.jpg',\n",
       " '.DS_Store',\n",
       " 'page_4.jpg',\n",
       " 'page_5.jpg',\n",
       " 'page_7.jpg',\n",
       " 'page_6.jpg',\n",
       " 'page_8.jpg',\n",
       " 'page_9.jpg']"
      ]
     },
     "execution_count": 40,
     "metadata": {},
     "output_type": "execute_result"
    }
   ],
   "source": [
    "os.listdir(\"./test_dir\")"
   ]
  },
  {
   "cell_type": "code",
   "execution_count": 46,
   "metadata": {},
   "outputs": [],
   "source": [
    "path = './test_dir/*.jpg'\n",
    "list1 = glob.glob(path);"
   ]
  },
  {
   "cell_type": "code",
   "execution_count": 47,
   "metadata": {
    "scrolled": true
   },
   "outputs": [
    {
     "data": {
      "text/plain": [
       "['./test_dir/page_2.jpg',\n",
       " './test_dir/page_3.jpg',\n",
       " './test_dir/page_1.jpg',\n",
       " './test_dir/page_0.jpg',\n",
       " './test_dir/page_4.jpg',\n",
       " './test_dir/page_5.jpg',\n",
       " './test_dir/page_7.jpg',\n",
       " './test_dir/page_6.jpg',\n",
       " './test_dir/page_8.jpg',\n",
       " './test_dir/page_9.jpg']"
      ]
     },
     "execution_count": 47,
     "metadata": {},
     "output_type": "execute_result"
    }
   ],
   "source": [
    "list1"
   ]
  },
  {
   "cell_type": "code",
   "execution_count": null,
   "metadata": {},
   "outputs": [],
   "source": []
  },
  {
   "cell_type": "code",
   "execution_count": null,
   "metadata": {},
   "outputs": [],
   "source": [
    "pdf = FPDF()\n",
    "# imagelist is the list with all image filenames\n",
    "for image in list1:\n",
    "    pdf.add_page()\n",
    "    pdf.image(image,x,y,w,h)\n",
    "pdf.output(\"yourfile.pdf\", \"F\")"
   ]
  },
  {
   "cell_type": "code",
   "execution_count": null,
   "metadata": {},
   "outputs": [],
   "source": []
  },
  {
   "cell_type": "markdown",
   "metadata": {},
   "source": [
    "## 書誌情報のスクレイピングからページ数まで調べたい"
   ]
  },
  {
   "cell_type": "code",
   "execution_count": null,
   "metadata": {},
   "outputs": [],
   "source": []
  },
  {
   "cell_type": "code",
   "execution_count": null,
   "metadata": {},
   "outputs": [],
   "source": []
  },
  {
   "cell_type": "code",
   "execution_count": null,
   "metadata": {},
   "outputs": [],
   "source": []
  },
  {
   "cell_type": "code",
   "execution_count": null,
   "metadata": {},
   "outputs": [],
   "source": []
  },
  {
   "cell_type": "code",
   "execution_count": null,
   "metadata": {},
   "outputs": [],
   "source": []
  }
 ],
 "metadata": {
  "kernelspec": {
   "display_name": "Python 3",
   "language": "python",
   "name": "python3"
  },
  "language_info": {
   "codemirror_mode": {
    "name": "ipython",
    "version": 3
   },
   "file_extension": ".py",
   "mimetype": "text/x-python",
   "name": "python",
   "nbconvert_exporter": "python",
   "pygments_lexer": "ipython3",
   "version": "3.7.5"
  },
  "toc": {
   "base_numbering": 1,
   "nav_menu": {},
   "number_sections": true,
   "sideBar": true,
   "skip_h1_title": false,
   "title_cell": "Table of Contents",
   "title_sidebar": "Contents",
   "toc_cell": false,
   "toc_position": {},
   "toc_section_display": true,
   "toc_window_display": false
  }
 },
 "nbformat": 4,
 "nbformat_minor": 2
}
