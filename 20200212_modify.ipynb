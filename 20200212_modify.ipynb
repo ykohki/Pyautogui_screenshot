{
 "cells": [
  {
   "cell_type": "markdown",
   "metadata": {},
   "source": [
    "20200212"
   ]
  },
  {
   "cell_type": "code",
   "execution_count": 1,
   "metadata": {},
   "outputs": [],
   "source": [
    "import argparse\n",
    "import pyautogui\n",
    "import time\n",
    "import os\n",
    "# マウスのクリック取得\n",
    "from pynput import mouse\n",
    "# pdfへ変換\n",
    "import glob\n",
    "from PIL import Image\n",
    "import img2pdf\n",
    "# pdfをまとめる\n",
    "import re\n",
    "import PyPDF2\n",
    "# ディレクトリの削除、移動\n",
    "import shutil"
   ]
  },
  {
   "cell_type": "markdown",
   "metadata": {},
   "source": [
    "png→pdfの変換を個別でおこなう"
   ]
  },
  {
   "cell_type": "markdown",
   "metadata": {},
   "source": [
    "pngは、/Users/yamada/python/SS/harry"
   ]
  },
  {
   "cell_type": "code",
   "execution_count": 3,
   "metadata": {},
   "outputs": [
    {
     "name": "stdout",
     "output_type": "stream",
     "text": [
      "/Users/yamada/python/SS/Pyautogui_screenshot\n"
     ]
    }
   ],
   "source": [
    "!pwd"
   ]
  },
  {
   "cell_type": "code",
   "execution_count": 14,
   "metadata": {},
   "outputs": [],
   "source": [
    "path_jpg = \"/Users/yamada/python/SS/harry/*.png\"\n",
    "pdf_path = \"./\"\n",
    "title = 'harry'"
   ]
  },
  {
   "cell_type": "code",
   "execution_count": 19,
   "metadata": {},
   "outputs": [
    {
     "name": "stderr",
     "output_type": "stream",
     "text": [
      "WARNING:root:Image contains transparency which cannot be retained in PDF.\n",
      "WARNING:root:img2pdf will not perform a lossy operation.\n",
      "WARNING:root:You can remove the alpha channel using imagemagick:\n",
      "WARNING:root:  $ convert input.png -background white -alpha remove -alpha off output.png\n"
     ]
    },
    {
     "ename": "Exception",
     "evalue": "Refusing to work on images with alpha channel",
     "output_type": "error",
     "traceback": [
      "\u001b[0;31m---------------------------------------------------------------------------\u001b[0m",
      "\u001b[0;31mException\u001b[0m                                 Traceback (most recent call last)",
      "\u001b[0;32m<ipython-input-19-61cfa71827cb>\u001b[0m in \u001b[0;36m<module>\u001b[0;34m\u001b[0m\n\u001b[1;32m     13\u001b[0m     \u001b[0mimg\u001b[0m \u001b[0;34m=\u001b[0m \u001b[0mImage\u001b[0m\u001b[0;34m.\u001b[0m\u001b[0mopen\u001b[0m\u001b[0;34m(\u001b[0m\u001b[0mi\u001b[0m\u001b[0;34m)\u001b[0m\u001b[0;34m\u001b[0m\u001b[0;34m\u001b[0m\u001b[0m\n\u001b[1;32m     14\u001b[0m     \u001b[0;31m# 画像→pdfファイルに変換\u001b[0m\u001b[0;34m\u001b[0m\u001b[0;34m\u001b[0m\u001b[0;34m\u001b[0m\u001b[0m\n\u001b[0;32m---> 15\u001b[0;31m     \u001b[0mcov_pdf\u001b[0m \u001b[0;34m=\u001b[0m \u001b[0mimg2pdf\u001b[0m\u001b[0;34m.\u001b[0m\u001b[0mconvert\u001b[0m\u001b[0;34m(\u001b[0m\u001b[0mi\u001b[0m\u001b[0;34m)\u001b[0m\u001b[0;34m\u001b[0m\u001b[0;34m\u001b[0m\u001b[0m\n\u001b[0m\u001b[1;32m     16\u001b[0m     \u001b[0;31m# pdfファイルを読み込み（pdf_nameで指定したpdfがない場合、pdf_nameをファイル名として新規にpdfファイルを作成）\u001b[0m\u001b[0;34m\u001b[0m\u001b[0;34m\u001b[0m\u001b[0;34m\u001b[0m\u001b[0m\n\u001b[1;32m     17\u001b[0m     \u001b[0mfile\u001b[0m \u001b[0;34m=\u001b[0m \u001b[0mopen\u001b[0m\u001b[0;34m(\u001b[0m\u001b[0;34m\"./\"\u001b[0m \u001b[0;34m+\u001b[0m \u001b[0mtitle\u001b[0m \u001b[0;34m+\u001b[0m \u001b[0;34m\"/pdf/\"\u001b[0m \u001b[0;34m+\u001b[0m \u001b[0mname_pdf\u001b[0m\u001b[0;34m,\u001b[0m \u001b[0;34m\"wb\"\u001b[0m\u001b[0;34m)\u001b[0m\u001b[0;34m\u001b[0m\u001b[0;34m\u001b[0m\u001b[0m\n",
      "\u001b[0;32m~/anaconda3/lib/python3.7/site-packages/img2pdf.py\u001b[0m in \u001b[0;36mconvert\u001b[0;34m(*images, **kwargs)\u001b[0m\n\u001b[1;32m   1827\u001b[0m             \u001b[0mdepth\u001b[0m\u001b[0;34m,\u001b[0m\u001b[0;34m\u001b[0m\u001b[0;34m\u001b[0m\u001b[0m\n\u001b[1;32m   1828\u001b[0m             \u001b[0mrotation\u001b[0m\u001b[0;34m,\u001b[0m\u001b[0;34m\u001b[0m\u001b[0;34m\u001b[0m\u001b[0m\n\u001b[0;32m-> 1829\u001b[0;31m         ) in read_images(rawdata, kwargs[\"colorspace\"], kwargs[\"first_frame_only\"]):\n\u001b[0m\u001b[1;32m   1830\u001b[0m             pagewidth, pageheight, imgwidthpdf, imgheightpdf = kwargs[\"layout_fun\"](\n\u001b[1;32m   1831\u001b[0m                 \u001b[0mimgwidthpx\u001b[0m\u001b[0;34m,\u001b[0m \u001b[0mimgheightpx\u001b[0m\u001b[0;34m,\u001b[0m \u001b[0mndpi\u001b[0m\u001b[0;34m\u001b[0m\u001b[0;34m\u001b[0m\u001b[0m\n",
      "\u001b[0;32m~/anaconda3/lib/python3.7/site-packages/img2pdf.py\u001b[0m in \u001b[0;36mread_images\u001b[0;34m(rawdata, colorspace, first_frame_only)\u001b[0m\n\u001b[1;32m   1223\u001b[0m     \u001b[0;32mif\u001b[0m \u001b[0mimgformat\u001b[0m \u001b[0;34m==\u001b[0m \u001b[0mImageFormat\u001b[0m\u001b[0;34m.\u001b[0m\u001b[0mPNG\u001b[0m \u001b[0;32mand\u001b[0m \u001b[0mrawdata\u001b[0m\u001b[0;34m[\u001b[0m\u001b[0;36m28\u001b[0m\u001b[0;34m]\u001b[0m \u001b[0;34m==\u001b[0m \u001b[0;36m0\u001b[0m\u001b[0;34m:\u001b[0m\u001b[0;34m\u001b[0m\u001b[0;34m\u001b[0m\u001b[0m\n\u001b[1;32m   1224\u001b[0m         color, ndpi, imgwidthpx, imgheightpx, rotation = get_imgmetadata(\n\u001b[0;32m-> 1225\u001b[0;31m             \u001b[0mimgdata\u001b[0m\u001b[0;34m,\u001b[0m \u001b[0mimgformat\u001b[0m\u001b[0;34m,\u001b[0m \u001b[0mdefault_dpi\u001b[0m\u001b[0;34m,\u001b[0m \u001b[0mcolorspace\u001b[0m\u001b[0;34m,\u001b[0m \u001b[0mrawdata\u001b[0m\u001b[0;34m\u001b[0m\u001b[0;34m\u001b[0m\u001b[0m\n\u001b[0m\u001b[1;32m   1226\u001b[0m         )\n\u001b[1;32m   1227\u001b[0m         \u001b[0mpngidat\u001b[0m\u001b[0;34m,\u001b[0m \u001b[0mpalette\u001b[0m \u001b[0;34m=\u001b[0m \u001b[0mparse_png\u001b[0m\u001b[0;34m(\u001b[0m\u001b[0mrawdata\u001b[0m\u001b[0;34m)\u001b[0m\u001b[0;34m\u001b[0m\u001b[0;34m\u001b[0m\u001b[0m\n",
      "\u001b[0;32m~/anaconda3/lib/python3.7/site-packages/img2pdf.py\u001b[0m in \u001b[0;36mget_imgmetadata\u001b[0;34m(imgdata, imgformat, default_dpi, colorspace, rawdata)\u001b[0m\n\u001b[1;32m    988\u001b[0m             \u001b[0;34m\"remove -alpha off output.png\"\u001b[0m\u001b[0;34m\u001b[0m\u001b[0;34m\u001b[0m\u001b[0m\n\u001b[1;32m    989\u001b[0m         )\n\u001b[0;32m--> 990\u001b[0;31m         \u001b[0;32mraise\u001b[0m \u001b[0mException\u001b[0m\u001b[0;34m(\u001b[0m\u001b[0;34m\"Refusing to work on images with alpha channel\"\u001b[0m\u001b[0;34m)\u001b[0m\u001b[0;34m\u001b[0m\u001b[0;34m\u001b[0m\u001b[0m\n\u001b[0m\u001b[1;32m    991\u001b[0m \u001b[0;34m\u001b[0m\u001b[0m\n\u001b[1;32m    992\u001b[0m     \u001b[0;31m# Since commit 07a96209597c5e8dfe785c757d7051ce67a980fb or release 4.1.0\u001b[0m\u001b[0;34m\u001b[0m\u001b[0;34m\u001b[0m\u001b[0;34m\u001b[0m\u001b[0m\n",
      "\u001b[0;31mException\u001b[0m: Refusing to work on images with alpha channel"
     ]
    }
   ],
   "source": [
    "# jpg→pdf\n",
    "# path_jpg = \"./\" + title + \"/jpg/*.jpg\"\n",
    "list_jpg = glob.glob(path_jpg)\n",
    "\n",
    "# 保存先のディレクトリを作成\n",
    "os.makedirs(\"./\" + title + \"/pdf\")\n",
    "\n",
    "for i in list_jpg:\n",
    "    name, ext = os.path.splitext(i)\n",
    "    name_pdf = name.split(\"/\")[-1] + \".pdf\"\n",
    "    # 変換\n",
    "    # Pillowモジュールを使用し画像の読み込み\n",
    "    img = Image.open(i)\n",
    "    # 画像→pdfファイルに変換\n",
    "    cov_pdf = img2pdf.convert(i)\n",
    "    # pdfファイルを読み込み（pdf_nameで指定したpdfがない場合、pdf_nameをファイル名として新規にpdfファイルを作成）\n",
    "    file = open(\"./\" + title + \"/pdf/\" + name_pdf, \"wb\")\n",
    "    # pdfファイルを書き込み\n",
    "    file.write(cov_pdf)\n",
    "\n",
    "    # 開いているファイルを閉じる\n",
    "    img.close()\n",
    "    file.close()\n",
    "\n",
    "# 複数のpdfファイルを結合する\n",
    "pdf_path = \"./\" + title + \"/pdf/\"\n",
    "\n",
    "merge = PyPDF2.PdfFileMerger()\n",
    "for j in sorted(os.listdir(pdf_path), key=lambda s: int(re.search(r'\\d+', s).group())):\n",
    "    merge.append(pdf_path + \"/\" + j)\n",
    "merge.write(\"./\" + title + '/' + title + '.pdf')\n",
    "merge.close()\n",
    "print(\"変換終了\")"
   ]
  },
  {
   "cell_type": "markdown",
   "metadata": {},
   "source": [
    "# 改善"
   ]
  },
  {
   "cell_type": "markdown",
   "metadata": {},
   "source": [
    "- ファイル名について、すでに存在していて微修正して作成できる\n",
    "- 撮影中にkeyboard interuptがあれば、そこまでのpdfを作成する"
   ]
  },
  {
   "cell_type": "code",
   "execution_count": null,
   "metadata": {},
   "outputs": [],
   "source": [
    "# 使い方\n",
    "# python screenshot_full.py 右か左か ページ数 保存先のパス\n",
    "# python screenshot.py_full right 342 /Users/yamada/SS/Pyautogui_SS/test_dir\n",
    "\n",
    "import argparse\n",
    "import pyautogui\n",
    "import time\n",
    "import os\n",
    "# マウスのクリック取得\n",
    "from pynput import mouse\n",
    "# pdfへ変換\n",
    "import glob\n",
    "from PIL import Image\n",
    "import img2pdf\n",
    "# pdfをまとめる\n",
    "import re\n",
    "import PyPDF2\n",
    "# ディレクトリの削除、移動\n",
    "import shutil\n",
    "\n",
    "# コマンドライン引数の取得\n",
    "parser = argparse.ArgumentParser()\n",
    "parser.add_argument('-pos', '--position', action='store_true')\n",
    "parser.add_argument('-lr')\n",
    "parser.add_argument('-p', '--pages')\n",
    "parser.add_argument('-dir', '--path_dir')\n",
    "parser.add_argument('-time', '--time_sleep')\n",
    "parser.add_argument('-title')\n",
    "args = parser.parse_args()\n",
    "\n",
    "right_left = args.lr\n",
    "num_pages = int(args.pages)\n",
    "path_dir = args.path_dir\n",
    "time_sleep = float(args.time_sleep)\n",
    "title = args.title\n",
    "# 保存先のディレクトリを作成\n",
    "os.makedirs(\"./\" + title)\n",
    "\n",
    "# 座標取得かどうか場合分け\n",
    "if args.position is True:\n",
    "    list_point = []\n",
    "\n",
    "    class Monitor:\n",
    "        def __init__(self):\n",
    "            self.counter = 0\n",
    "            # マウスクリック取得は2回\n",
    "            self.over_count = 2\n",
    "\n",
    "        def count(self):\n",
    "            self.counter += 1\n",
    "            print('Count:{0}'.format(self.counter))\n",
    "\n",
    "        def is_over(self):\n",
    "            return True if self.counter >= self.over_count else False\n",
    "\n",
    "        def call(self):\n",
    "            self.count()\n",
    "            if self.is_over():\n",
    "                print('Done')\n",
    "                self.listener.stop()  # 規定回数過ぎたら終了\n",
    "\n",
    "        def on_click(self, x, y, button, pressed):\n",
    "            # print('{0} at {1}'.format('Pressed' if pressed else 'Released',(x,y)))\n",
    "            list_point.append((x, y))\n",
    "            if pressed:\n",
    "                self.call()\n",
    "\n",
    "        def start(self):\n",
    "            with mouse.Listener(on_click=self.on_click) as self.listener:\n",
    "                self.listener.join()\n",
    "\n",
    "    monitor = Monitor()\n",
    "    print(\"mouse click start\")\n",
    "    monitor.start()\n",
    "\n",
    "    # 座標計算\n",
    "    x1 = list_point[0][0]\n",
    "    y1 = list_point[0][1]\n",
    "    x2 = list_point[2][0]\n",
    "    y2 = list_point[2][1]\n",
    "    width = x2 - x1\n",
    "    hight = y2 - y1\n",
    "\n",
    "    # スクリーンショット\n",
    "    count_page = 0\n",
    "    for i in range(num_pages):\n",
    "        time.sleep(time_sleep)\n",
    "        # Take and save a screenshot\n",
    "        sc = pyautogui.screenshot(\n",
    "            region=(x1 * 2, y1 * 2, width * 2, hight * 2))\n",
    "        sc.save(\"./\" + title + '/page_{}.png'.format(i))\n",
    "        # Turn page\n",
    "        pyautogui.press(right_left)\n",
    "        # ページ数カウント\n",
    "        count_page += 1\n",
    "        percent = (count_page / num_pages) * 100\n",
    "        if percent % 10 == 0:\n",
    "            print(\"saving... \" + str(percent) + '% '\n",
    "                  + str(count_page) + \"/\" + str(num_pages))\n",
    "        else:\n",
    "            continue\n",
    "\n",
    "else:\n",
    "    # Sleep for 5 seconds to allow me to open book\n",
    "    time.sleep(5)\n",
    "    # スクリーンショット\n",
    "    count_page = 0\n",
    "    for i in range(num_pages):\n",
    "        time.sleep(time_sleep)\n",
    "        # Take and save a screenshot\n",
    "        sc = pyautogui.screenshot()\n",
    "        sc.save(\"./\" + title + '/page_{}.png'.format(i))\n",
    "        # Turn page\n",
    "        pyautogui.press(right_left)\n",
    "        # ページ数カウント\n",
    "        count_page += 1\n",
    "        percent = (count_page / num_pages) * 100\n",
    "        if percent % 10 == 0:\n",
    "            print(\"saving... \" + str(percent) + '% '\n",
    "                  + str(count_page) + \"/\" + str(num_pages))\n",
    "        else:\n",
    "            continue\n",
    "\n",
    "print(\"Converting...\")\n",
    "\n",
    "# png→jpg\n",
    "path_ = \"./\" + title + '/*.png'\n",
    "# 保存先のディレクトリを作成\n",
    "os.makedirs(\"./\" + title + \"/jpg\")\n",
    "\n",
    "list_png = glob.glob(path_)\n",
    "for i in list_png:\n",
    "    name, ext = os.path.splitext(i)\n",
    "    name_png = name.split(\"/\")[-1] + \".jpg\"\n",
    "    # 変換\n",
    "    im = Image.open(i)\n",
    "    rgb_im = im.convert('RGB')\n",
    "    rgb_im.save(\"./\" + title + \"/jpg/\" + name_png)\n",
    "\n",
    "# jpg→pdf\n",
    "path_jpg = \"./\" + title + \"/jpg/*.jpg\"\n",
    "list_jpg = glob.glob(path_jpg)\n",
    "# 保存先のディレクトリを作成\n",
    "os.makedirs(\"./\" + title + \"/pdf\")\n",
    "\n",
    "for i in list_jpg:\n",
    "    name, ext = os.path.splitext(i)\n",
    "    name_pdf = name.split(\"/\")[-1] + \".pdf\"\n",
    "    # 変換\n",
    "    # Pillowモジュールを使用し画像の読み込み\n",
    "    img = Image.open(i)\n",
    "    # 画像→pdfファイルに変換\n",
    "    cov_pdf = img2pdf.convert(i)\n",
    "    # pdfファイルを読み込み（pdf_nameで指定したpdfがない場合、pdf_nameをファイル名として新規にpdfファイルを作成）\n",
    "    file = open(\"./\" + title + \"/pdf/\" + name_pdf, \"wb\")\n",
    "    # pdfファイルを書き込み\n",
    "    file.write(cov_pdf)\n",
    "\n",
    "    # 開いているファイルを閉じる\n",
    "    img.close()\n",
    "    file.close()\n",
    "\n",
    "# 複数のpdfファイルを結合する\n",
    "pdf_path = \"./\" + title + \"/pdf/\"\n",
    "\n",
    "merge = PyPDF2.PdfFileMerger()\n",
    "for j in sorted(os.listdir(pdf_path), key=lambda s: int(re.search(r'\\d+', s).group())):\n",
    "    merge.append(pdf_path + \"/\" + j)\n",
    "merge.write(\"./\" + title + '/' + title + '.pdf')\n",
    "merge.close()\n",
    "print(\"変換終了\")\n",
    "\n",
    "# すべて終了後、all.pdf以外のファイル、ディレクトリを削除する\n",
    "shutil.move(\"./\" + title + '/' + title + '.pdf', path_dir)\n",
    "shutil.rmtree(\"./\" + title)\n"
   ]
  },
  {
   "cell_type": "markdown",
   "metadata": {},
   "source": [
    "## 撮影中にkeyboard interuptがあれば、そこまでのpdfを作成する"
   ]
  },
  {
   "cell_type": "code",
   "execution_count": 2,
   "metadata": {},
   "outputs": [],
   "source": [
    "import argparse\n",
    "import pyautogui\n",
    "import time\n",
    "import os\n",
    "# マウスのクリック取得\n",
    "from pynput import mouse\n",
    "# pdfへ変換\n",
    "import glob\n",
    "from PIL import Image\n",
    "import img2pdf\n",
    "# pdfをまとめる\n",
    "import re\n",
    "import PyPDF2\n",
    "# ディレクトリの削除、移動\n",
    "import shutil"
   ]
  },
  {
   "cell_type": "code",
   "execution_count": null,
   "metadata": {},
   "outputs": [],
   "source": [
    "# Sleep for 5 seconds to allow me to open book\n",
    "time.sleep(5)\n",
    "# スクリーンショット\n",
    "count_page = 0\n",
    "for i in range(num_pages):\n",
    "    time.sleep(time_sleep)\n",
    "    # Take and save a screenshot\n",
    "    sc = pyautogui.screenshot()\n",
    "    sc.save(\"./\" + title + '/page_{}.png'.format(i))\n",
    "    # Turn page\n",
    "    pyautogui.press(right_left)\n",
    "    # ページ数カウント\n",
    "    count_page += 1\n",
    "    percent = (count_page / num_pages) * 100\n",
    "    if percent % 10 == 0:\n",
    "        print(\"saving... \" + str(percent) + '% '\n",
    "              + str(count_page) + \"/\" + str(num_pages))\n",
    "    else:\n",
    "        continue\n",
    "\n"
   ]
  },
  {
   "cell_type": "code",
   "execution_count": 6,
   "metadata": {},
   "outputs": [],
   "source": [
    "# test用\n",
    "\n",
    "right_left = \"right\"\n",
    "num_pages = 30\n",
    "# path_dir = args.path_dir\n",
    "time_sleep = 0.1\n",
    "title = \"test_\"\n",
    "# 保存先のディレクトリを作成\n",
    "os.makedirs(\"./\" + title)"
   ]
  },
  {
   "cell_type": "markdown",
   "metadata": {},
   "source": [
    "ディレクトリが存在していれば、名前を変えて作る"
   ]
  },
  {
   "cell_type": "markdown",
   "metadata": {},
   "source": [
    "ランダムな文字列を作る"
   ]
  },
  {
   "cell_type": "markdown",
   "metadata": {},
   "source": [
    "[Pythonを使ってランダムな文字列を生成 - Qiita](https://qiita.com/Scstechr/items/c3b2eb291f7c5b81902a)"
   ]
  },
  {
   "cell_type": "code",
   "execution_count": 8,
   "metadata": {},
   "outputs": [],
   "source": [
    "import random, string\n",
    "\n",
    "def randomname(n):\n",
    "   randlst = [random.choice(string.ascii_letters + string.digits) for i in range(n)]\n",
    "   return ''.join(randlst)"
   ]
  },
  {
   "cell_type": "code",
   "execution_count": 9,
   "metadata": {},
   "outputs": [
    {
     "data": {
      "text/plain": [
       "'1wwCYJZY9p'"
      ]
     },
     "execution_count": 9,
     "metadata": {},
     "output_type": "execute_result"
    }
   ],
   "source": [
    "randomname(10)"
   ]
  },
  {
   "cell_type": "code",
   "execution_count": null,
   "metadata": {},
   "outputs": [],
   "source": [
    "try:\n",
    "    os.makedirs(\"./\" + title)\n",
    "except FileExistsError:\n",
    "    os.makedirs(\"./\" + title + \"_\" + randomname(10))"
   ]
  },
  {
   "cell_type": "code",
   "execution_count": 7,
   "metadata": {},
   "outputs": [
    {
     "ename": "KeyboardInterrupt",
     "evalue": "",
     "output_type": "error",
     "traceback": [
      "\u001b[0;31m---------------------------------------------------------------------------\u001b[0m",
      "\u001b[0;31mKeyboardInterrupt\u001b[0m                         Traceback (most recent call last)",
      "\u001b[0;32m<ipython-input-7-bdf7d57ea9c7>\u001b[0m in \u001b[0;36m<module>\u001b[0;34m\u001b[0m\n\u001b[1;32m      1\u001b[0m \u001b[0;31m# Sleep for 5 seconds to allow me to open book\u001b[0m\u001b[0;34m\u001b[0m\u001b[0;34m\u001b[0m\u001b[0;34m\u001b[0m\u001b[0m\n\u001b[0;32m----> 2\u001b[0;31m \u001b[0mtime\u001b[0m\u001b[0;34m.\u001b[0m\u001b[0msleep\u001b[0m\u001b[0;34m(\u001b[0m\u001b[0;36m5\u001b[0m\u001b[0;34m)\u001b[0m\u001b[0;34m\u001b[0m\u001b[0;34m\u001b[0m\u001b[0m\n\u001b[0m\u001b[1;32m      3\u001b[0m \u001b[0;31m# スクリーンショット\u001b[0m\u001b[0;34m\u001b[0m\u001b[0;34m\u001b[0m\u001b[0;34m\u001b[0m\u001b[0m\n\u001b[1;32m      4\u001b[0m \u001b[0mcount_page\u001b[0m \u001b[0;34m=\u001b[0m \u001b[0;36m0\u001b[0m\u001b[0;34m\u001b[0m\u001b[0;34m\u001b[0m\u001b[0m\n\u001b[1;32m      5\u001b[0m \u001b[0;32mfor\u001b[0m \u001b[0mi\u001b[0m \u001b[0;32min\u001b[0m \u001b[0mrange\u001b[0m\u001b[0;34m(\u001b[0m\u001b[0mnum_pages\u001b[0m\u001b[0;34m)\u001b[0m\u001b[0;34m:\u001b[0m\u001b[0;34m\u001b[0m\u001b[0;34m\u001b[0m\u001b[0m\n",
      "\u001b[0;31mKeyboardInterrupt\u001b[0m: "
     ]
    }
   ],
   "source": [
    "# Sleep for 5 seconds to allow me to open book\n",
    "time.sleep(5)\n",
    "# スクリーンショット\n",
    "count_page = 0\n",
    "for i in range(num_pages):\n",
    "    try:\n",
    "        time.sleep(time_sleep)\n",
    "        # Take and save a screenshot\n",
    "        sc = pyautogui.screenshot()\n",
    "        sc.save(\"./\" + title + '/page_{}.png'.format(i))\n",
    "        # Turn page\n",
    "        pyautogui.press(right_left)\n",
    "        # ページ数カウント\n",
    "        count_page += 1\n",
    "        percent = (count_page / num_pages) * 100\n",
    "        if percent % 10 == 0:\n",
    "            print(\"saving... \" + str(percent) + '% '\n",
    "                  + str(count_page) + \"/\" + str(num_pages))\n",
    "        else:\n",
    "            continue\n",
    "    except KeyboardInterrupt:\n",
    "        print(\"Ctrl+Cで停止しました\")\n",
    "        break\n",
    "print(\"test\")"
   ]
  },
  {
   "cell_type": "code",
   "execution_count": null,
   "metadata": {},
   "outputs": [],
   "source": [
    "import argparse\n",
    "import pyautogui\n",
    "import time\n",
    "import os\n",
    "# マウスのクリック取得\n",
    "from pynput import mouse\n",
    "# pdfへ変換\n",
    "import glob\n",
    "from PIL import Image\n",
    "import img2pdf\n",
    "# pdfをまとめる\n",
    "import re\n",
    "import PyPDF2\n",
    "# ディレクトリの削除、移動\n",
    "import shutil\n",
    "import random, string\n",
    "\n",
    "# ランダムな文字列作成\n",
    "def randomname(n):\n",
    "   randlst = [random.choice(string.ascii_letters + string.digits) for i in range(n)]\n",
    "   return ''.join(randlst)\n",
    "\n",
    "# test用のパラメータ\n",
    "right_left = \"right\"\n",
    "num_pages = 30\n",
    "# path_dir = args.path_dir\n",
    "time_sleep = 0.1\n",
    "title = \"test_\"\n",
    "# 保存先のディレクトリを作成\n",
    "try:\n",
    "    os.makedirs(\"./\" + title)\n",
    "except FileExistsError:\n",
    "    random = randomname(10)\n",
    "    os.makedirs(\"./\" + title + \"_\" + random)\n",
    "    title = title + \"_\" + random\n",
    "\n",
    "# Sleep for 5 seconds to allow me to open book\n",
    "time.sleep(5)\n",
    "# スクリーンショット\n",
    "count_page = 0\n",
    "print(\"staring...\")\n",
    "for i in range(num_pages):\n",
    "    try:\n",
    "        time.sleep(time_sleep)\n",
    "        # Take and save a screenshot\n",
    "        sc = pyautogui.screenshot()\n",
    "        sc.save(\"./\" + title + '/page_{}.png'.format(i))\n",
    "        # Turn page\n",
    "        pyautogui.press(right_left)\n",
    "        # ページ数カウント\n",
    "        count_page += 1\n",
    "        percent = (count_page / num_pages) * 100\n",
    "        if percent % 10 == 0:\n",
    "            print(\"saving... \" + str(percent) + '% '\n",
    "                  + str(count_page) + \"/\" + str(num_pages))\n",
    "        else:\n",
    "            continue\n",
    "    except KeyboardInterrupt:\n",
    "        print(\"Ctrl+Cで停止しました\")\n",
    "        break\n",
    "print(\"test\")\n"
   ]
  },
  {
   "cell_type": "markdown",
   "metadata": {},
   "source": [
    "## ファイル名について、すでに存在していればrenameする"
   ]
  },
  {
   "cell_type": "markdown",
   "metadata": {},
   "source": [
    "pdfに限る"
   ]
  },
  {
   "cell_type": "code",
   "execution_count": 10,
   "metadata": {},
   "outputs": [],
   "source": [
    "path_dir = \"./\""
   ]
  },
  {
   "cell_type": "code",
   "execution_count": 11,
   "metadata": {},
   "outputs": [],
   "source": [
    "import os"
   ]
  },
  {
   "cell_type": "code",
   "execution_count": 12,
   "metadata": {},
   "outputs": [
    {
     "name": "stdout",
     "output_type": "stream",
     "text": [
      "<class 'list'>\n",
      "['screenshot_pos.py', 'pan___.pdf', '200112_cursor_tracking.ipynb', '.DS_Store', 'screenshot2020-0210_01-13-03-498240.png', 'test', '.pytest_cache', 'screenshot2020-0211_17-09-28-981998.png', 'screenshot2020-0208_14-14-23-463659.png', 'screenshot2020-0210_09-58-38-944435.png', 'screenshot_full.py', 'screenshot2020-0211_15-50-43-378584.png', 'pap.pdf', '__pycache__', 'test.py', 'test_args.py', 'README.md', '200110_pyautogui_ss.ipynb', '.gitignore', 'screenshot2020-0211_22-19-24-667812.png', 'pap_.pdf', '.ipynb_checkpoints', 'screenshot.py', '..screenshot2020-0112_14-29-14-897714.png-U649', '.git', 'screenshot_pos-copy.py', '.travis.yml', '20200212_modify.ipynb', '.idea']\n"
     ]
    }
   ],
   "source": [
    "files = os.listdir(path_dir)\n",
    "print(type(files))  # <class 'list'>\n",
    "print(files)        # ['dir1', 'dir2', 'file1', 'file2.txt', 'file3.jpg']"
   ]
  },
  {
   "cell_type": "markdown",
   "metadata": {},
   "source": [
    "[pythonでフォルダ内のファイル名のみ取得する方法 - Qiita](https://qiita.com/d_desuyon/items/94eb52394a8152143f63)"
   ]
  },
  {
   "cell_type": "code",
   "execution_count": 13,
   "metadata": {},
   "outputs": [
    {
     "name": "stdout",
     "output_type": "stream",
     "text": [
      "pan___.pdf\n",
      "pap.pdf\n",
      "pap_.pdf\n"
     ]
    }
   ],
   "source": [
    "import pathlib\n",
    "\n",
    "p_temp = pathlib.Path(path_dir).glob('*.pdf')\n",
    "for p in p_temp:\n",
    "    print(p.name)"
   ]
  },
  {
   "cell_type": "code",
   "execution_count": 14,
   "metadata": {},
   "outputs": [],
   "source": [
    "list_file_name = []\n",
    "p_temp = pathlib.Path(path_dir).glob('*.pdf')\n",
    "for p in p_temp:\n",
    "    list_file_name.append(p.name)"
   ]
  },
  {
   "cell_type": "code",
   "execution_count": 15,
   "metadata": {},
   "outputs": [
    {
     "data": {
      "text/plain": [
       "['pan___.pdf', 'pap.pdf', 'pap_.pdf']"
      ]
     },
     "execution_count": 15,
     "metadata": {},
     "output_type": "execute_result"
    }
   ],
   "source": [
    "list_file_name"
   ]
  },
  {
   "cell_type": "code",
   "execution_count": 16,
   "metadata": {},
   "outputs": [],
   "source": [
    "title = \"test\"\n",
    "title_pdf = title + \".pdf\""
   ]
  },
  {
   "cell_type": "code",
   "execution_count": 17,
   "metadata": {},
   "outputs": [
    {
     "data": {
      "text/plain": [
       "False"
      ]
     },
     "execution_count": 17,
     "metadata": {},
     "output_type": "execute_result"
    }
   ],
   "source": [
    "title_pdf in list_file_name"
   ]
  },
  {
   "cell_type": "code",
   "execution_count": 18,
   "metadata": {},
   "outputs": [],
   "source": [
    "if title_pdf in list_file_name:\n",
    "    title = randomname(10)\n",
    "else:\n",
    "    pass"
   ]
  },
  {
   "cell_type": "code",
   "execution_count": null,
   "metadata": {},
   "outputs": [],
   "source": []
  },
  {
   "cell_type": "code",
   "execution_count": null,
   "metadata": {},
   "outputs": [],
   "source": []
  }
 ],
 "metadata": {
  "kernelspec": {
   "display_name": "Python 3",
   "language": "python",
   "name": "python3"
  },
  "language_info": {
   "codemirror_mode": {
    "name": "ipython",
    "version": 3
   },
   "file_extension": ".py",
   "mimetype": "text/x-python",
   "name": "python",
   "nbconvert_exporter": "python",
   "pygments_lexer": "ipython3",
   "version": "3.7.5"
  }
 },
 "nbformat": 4,
 "nbformat_minor": 4
}
