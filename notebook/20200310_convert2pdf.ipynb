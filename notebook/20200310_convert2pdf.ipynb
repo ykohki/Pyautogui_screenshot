{
 "cells": [
  {
   "cell_type": "markdown",
   "metadata": {},
   "source": [
    "20200310"
   ]
  },
  {
   "cell_type": "markdown",
   "metadata": {},
   "source": [
    "処理できなかったものを"
   ]
  },
  {
   "cell_type": "markdown",
   "metadata": {},
   "source": [
    "/Users/yamada/python/SS/Pyautogui_screenshot/4"
   ]
  },
  {
   "cell_type": "code",
   "execution_count": 1,
   "metadata": {},
   "outputs": [],
   "source": [
    "import os\n",
    "# pdfへ変換\n",
    "import glob\n",
    "from PIL import Image\n",
    "import img2pdf\n",
    "# pdfをまとめる\n",
    "import re\n",
    "import PyPDF2"
   ]
  },
  {
   "cell_type": "code",
   "execution_count": 2,
   "metadata": {},
   "outputs": [],
   "source": [
    "title = \"movie\""
   ]
  },
  {
   "cell_type": "code",
   "execution_count": 7,
   "metadata": {},
   "outputs": [],
   "source": [
    "# png→jpg\n",
    "path_ = \"./4/*.png\"\n",
    "# 保存先のディレクトリを作成\n",
    "os.makedirs(\"./\" + title + \"/jpg\")\n",
    "\n",
    "list_png = glob.glob(path_)\n",
    "for i in list_png:\n",
    "    name, ext = os.path.splitext(i)\n",
    "    name_png = name.split(\"/\")[-1] + \".jpg\"\n",
    "    # 変換\n",
    "    im = Image.open(i)\n",
    "    rgb_im = im.convert('RGB')\n",
    "    rgb_im.save(\"./\" + title + \"/jpg/\" + name_png)"
   ]
  },
  {
   "cell_type": "code",
   "execution_count": 13,
   "metadata": {},
   "outputs": [],
   "source": [
    "# jpg→pdf\n",
    "path_jpg = \"./\" + title + \"/jpg/*.jpg\"\n",
    "list_jpg = glob.glob(path_jpg)\n",
    "# 保存先のディレクトリを作成\n",
    "os.makedirs(\"./\" + title + \"/pdf\")"
   ]
  },
  {
   "cell_type": "code",
   "execution_count": 15,
   "metadata": {},
   "outputs": [],
   "source": [
    "for i in list_jpg:\n",
    "    name, ext = os.path.splitext(i)\n",
    "    name_pdf = name.split(\"/\")[-1] + \".pdf\"\n",
    "    # 変換\n",
    "    # Pillowモジュールを使用し画像の読み込み\n",
    "    img = Image.open(i)\n",
    "    # 画像→pdfファイルに変換\n",
    "    cov_pdf = img2pdf.convert(i)\n",
    "    # pdfファイルを読み込み（pdf_nameで指定したpdfがない場合、pdf_nameをファイル名として新規にpdfファイルを作成）\n",
    "    file = open(\"./\" + title + \"/pdf/\" + name_pdf, \"wb\")\n",
    "    # pdfファイルを書き込み\n",
    "    file.write(cov_pdf)\n",
    "\n",
    "    # 開いているファイルを閉じる\n",
    "    img.close()\n",
    "    file.close()"
   ]
  },
  {
   "cell_type": "code",
   "execution_count": 16,
   "metadata": {},
   "outputs": [
    {
     "name": "stdout",
     "output_type": "stream",
     "text": [
      "変換終了\n"
     ]
    }
   ],
   "source": [
    "# 複数のpdfファイルを結合する\n",
    "pdf_path = \"./\" + title + \"/pdf/\"\n",
    "\n",
    "merge = PyPDF2.PdfFileMerger()\n",
    "for j in sorted(os.listdir(pdf_path), key=lambda s: int(re.search(r'\\d+', s).group())):\n",
    "    merge.append(pdf_path + \"/\" + j)\n",
    "merge.write(\"./\" + title + '/' + title + '.pdf')\n",
    "merge.close()\n",
    "print(\"変換終了\")"
   ]
  },
  {
   "cell_type": "markdown",
   "metadata": {},
   "source": [
    "# 20200311"
   ]
  },
  {
   "cell_type": "markdown",
   "metadata": {},
   "source": [
    "もう一度"
   ]
  },
  {
   "cell_type": "markdown",
   "metadata": {},
   "source": [
    "/Users/yamada/python/SS/Pyautogui_screenshot/1___"
   ]
  },
  {
   "cell_type": "code",
   "execution_count": 17,
   "metadata": {},
   "outputs": [],
   "source": [
    "import os\n",
    "# pdfへ変換\n",
    "import glob\n",
    "from PIL import Image\n",
    "import img2pdf\n",
    "# pdfをまとめる\n",
    "import re\n",
    "import PyPDF2"
   ]
  },
  {
   "cell_type": "code",
   "execution_count": 18,
   "metadata": {},
   "outputs": [],
   "source": [
    "title = \"movie\""
   ]
  },
  {
   "cell_type": "code",
   "execution_count": 19,
   "metadata": {},
   "outputs": [],
   "source": [
    "# jpg→pdf\n",
    "path_jpg = \"./1___/jpg/*.jpg\"\n",
    "list_jpg = glob.glob(path_jpg)\n",
    "# 保存先のディレクトリを作成\n",
    "os.makedirs(\"./\" + title + \"/pdf\")"
   ]
  },
  {
   "cell_type": "code",
   "execution_count": 21,
   "metadata": {},
   "outputs": [],
   "source": [
    "for i in list_jpg:\n",
    "    name, ext = os.path.splitext(i)\n",
    "    name_pdf = name.split(\"/\")[-1] + \".pdf\"\n",
    "    # 変換\n",
    "    # Pillowモジュールを使用し画像の読み込み\n",
    "    img = Image.open(i)\n",
    "    # 画像→pdfファイルに変換\n",
    "    cov_pdf = img2pdf.convert(i)\n",
    "    # pdfファイルを読み込み（pdf_nameで指定したpdfがない場合、pdf_nameをファイル名として新規にpdfファイルを作成）\n",
    "    file = open(\"./\" + title + \"/pdf/\" + name_pdf, \"wb\")\n",
    "    # pdfファイルを書き込み\n",
    "    file.write(cov_pdf)\n",
    "\n",
    "    # 開いているファイルを閉じる\n",
    "    img.close()\n",
    "    file.close()"
   ]
  },
  {
   "cell_type": "code",
   "execution_count": 22,
   "metadata": {},
   "outputs": [
    {
     "name": "stdout",
     "output_type": "stream",
     "text": [
      "変換終了\n"
     ]
    }
   ],
   "source": [
    "# 複数のpdfファイルを結合する\n",
    "pdf_path = \"./\" + title + \"/pdf/\"\n",
    "\n",
    "merge = PyPDF2.PdfFileMerger()\n",
    "for j in sorted(os.listdir(pdf_path), key=lambda s: int(re.search(r'\\d+', s).group())):\n",
    "    merge.append(pdf_path + \"/\" + j)\n",
    "merge.write(\"./\" + title + '/' + title + '.pdf')\n",
    "merge.close()\n",
    "print(\"変換終了\")"
   ]
  },
  {
   "cell_type": "markdown",
   "metadata": {},
   "source": [
    "# 20200610"
   ]
  },
  {
   "cell_type": "code",
   "execution_count": 1,
   "metadata": {},
   "outputs": [],
   "source": [
    "import os\n",
    "# pdfへ変換\n",
    "import glob\n",
    "from PIL import Image\n",
    "import img2pdf\n",
    "# pdfをまとめる\n",
    "import re\n",
    "import PyPDF2"
   ]
  },
  {
   "cell_type": "code",
   "execution_count": 5,
   "metadata": {},
   "outputs": [
    {
     "name": "stdout",
     "output_type": "stream",
     "text": [
      "変換終了\n"
     ]
    }
   ],
   "source": [
    "title = \"movie\"\n",
    "# png→jpg\n",
    "path_ = \"./test___xASHNWWHSR/*.png\"\n",
    "# 保存先のディレクトリを作成\n",
    "os.makedirs(\"./\" + title + \"/jpg\")\n",
    "\n",
    "list_png = glob.glob(path_)\n",
    "for i in list_png:\n",
    "    name, ext = os.path.splitext(i)\n",
    "    name_png = name.split(\"/\")[-1] + \".jpg\"\n",
    "    # 変換\n",
    "    im = Image.open(i)\n",
    "    rgb_im = im.convert('RGB')\n",
    "    rgb_im.save(\"./\" + title + \"/jpg/\" + name_png)\n",
    "\n",
    "# jpg→pdf\n",
    "path_jpg = \"./\" + title + \"/jpg/*.jpg\"\n",
    "list_jpg = glob.glob(path_jpg)\n",
    "# 保存先のディレクトリを作成\n",
    "os.makedirs(\"./\" + title + \"/pdf\")\n",
    "\n",
    "for i in list_jpg:\n",
    "    name, ext = os.path.splitext(i)\n",
    "    name_pdf = name.split(\"/\")[-1] + \".pdf\"\n",
    "    # 変換\n",
    "    # Pillowモジュールを使用し画像の読み込み\n",
    "    img = Image.open(i)\n",
    "    # 画像→pdfファイルに変換\n",
    "    cov_pdf = img2pdf.convert(i)\n",
    "    # pdfファイルを読み込み（pdf_nameで指定したpdfがない場合、pdf_nameをファイル名として新規にpdfファイルを作成）\n",
    "    file = open(\"./\" + title + \"/pdf/\" + name_pdf, \"wb\")\n",
    "    # pdfファイルを書き込み\n",
    "    file.write(cov_pdf)\n",
    "\n",
    "    # 開いているファイルを閉じる\n",
    "    img.close()\n",
    "    file.close()\n",
    "    \n",
    "# 複数のpdfファイルを結合する\n",
    "pdf_path = \"./\" + title + \"/pdf/\"\n",
    "\n",
    "merge = PyPDF2.PdfFileMerger()\n",
    "for j in sorted(os.listdir(pdf_path), key=lambda s: int(re.search(r'\\d+', s).group())):\n",
    "    merge.append(pdf_path + \"/\" + j)\n",
    "merge.write(\"./\" + title + '/' + title + '.pdf')\n",
    "merge.close()\n",
    "print(\"変換終了\")"
   ]
  },
  {
   "cell_type": "code",
   "execution_count": null,
   "metadata": {},
   "outputs": [],
   "source": []
  },
  {
   "cell_type": "code",
   "execution_count": null,
   "metadata": {},
   "outputs": [],
   "source": []
  },
  {
   "cell_type": "code",
   "execution_count": null,
   "metadata": {},
   "outputs": [],
   "source": []
  },
  {
   "cell_type": "code",
   "execution_count": null,
   "metadata": {},
   "outputs": [],
   "source": []
  },
  {
   "cell_type": "code",
   "execution_count": null,
   "metadata": {},
   "outputs": [],
   "source": []
  }
 ],
 "metadata": {
  "kernelspec": {
   "display_name": "Python 3",
   "language": "python",
   "name": "python3"
  },
  "language_info": {
   "codemirror_mode": {
    "name": "ipython",
    "version": 3
   },
   "file_extension": ".py",
   "mimetype": "text/x-python",
   "name": "python",
   "nbconvert_exporter": "python",
   "pygments_lexer": "ipython3",
   "version": "3.7.7"
  }
 },
 "nbformat": 4,
 "nbformat_minor": 4
}
